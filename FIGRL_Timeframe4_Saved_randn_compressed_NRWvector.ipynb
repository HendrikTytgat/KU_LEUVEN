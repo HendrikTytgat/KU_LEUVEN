{
 "cells": [
  {
   "cell_type": "markdown",
   "metadata": {},
   "source": [
    "# FIGRL in Python (train and inductive) test full network timeframe 4"
   ]
  },
  {
   "cell_type": "code",
   "execution_count": 1,
   "metadata": {},
   "outputs": [],
   "source": [
    "# FI-GRL (Python)\n",
    "import networkx as nx\n",
    "import numpy as np\n",
    "from scipy.sparse import csr\n",
    "import networkx as nx\n",
    "import scipy\n",
    "from components.GraphConstruction import GraphConstruction\n",
    "import pandas as pd "
   ]
  },
  {
   "cell_type": "markdown",
   "metadata": {},
   "source": [
    "timeframe specifes which timeframe is selected. The undersampling_rate defines the graph-level undersampling rate defined as the desired ratio of fraudulent transactions over legitimate ones. add_additional_datais a boolean indicating whether or not we would like to add the original transaction features to the transaction node embeddings before training and evaluating our downstream classification model.\n",
    "\n",
    "For FI-GRL specifically there are two global parameters the intermediate_dim and final_dimension. the final_dimension indicates the embedding size of the created figrl embeddings. "
   ]
  },
  {
   "cell_type": "code",
   "execution_count": 2,
   "metadata": {},
   "outputs": [],
   "source": [
    "# Global parameters:\n",
    "timeframe = 4\n",
    "undersampling_rate = None\n",
    "add_additional_data = True\n",
    "intermediate_dim = 100\n",
    "final_dimension = 10"
   ]
  },
  {
   "cell_type": "markdown",
   "metadata": {},
   "source": [
    "### 1. Loading the Credit Card Transaction Data"
   ]
  },
  {
   "cell_type": "code",
   "execution_count": 3,
   "metadata": {},
   "outputs": [],
   "source": [
    "import warnings\n",
    "warnings.simplefilter(action='ignore', category=FutureWarning)\n",
    "import pandas as pd \n",
    "import numpy as np\n",
    "import time\n",
    "\n",
    "df = pd.read_csv(\"D:\\\\Users\\\\r0630151\\\\Downloads\\\\PIPELINE\\\\Preprocessing\\\\preprocessed_ccf.csv\", index_col = \"Unnamed: 0\")"
   ]
  },
  {
   "cell_type": "markdown",
   "metadata": {},
   "source": [
    "#### 1.1. Selecting a Timeframe"
   ]
  },
  {
   "cell_type": "code",
   "execution_count": 4,
   "metadata": {},
   "outputs": [
    {
     "name": "stdout",
     "output_type": "stream",
     "text": [
      "number of days in dataset:  36\n",
      "number of timeframes derived from window and step size:  5\n"
     ]
    }
   ],
   "source": [
    "from components.Timeframes import Timeframes\n",
    "from datetime import datetime, timedelta\n",
    "\n",
    "tf = Timeframes(df['TX_DATETIME'],step_size=5, window_size=17)\n",
    "timeframe_indices = tf.get_timeframe_indices(timeframe)\n",
    "\n",
    "print('number of days in dataset: ',tf.get_number_of_days())\n",
    "print('number of timeframes derived from window and step size: ',tf.get_number_of_timeframes())"
   ]
  },
  {
   "cell_type": "code",
   "execution_count": 5,
   "metadata": {},
   "outputs": [],
   "source": [
    "hold_out = 5\n",
    "train_data, inductive_data = tf.train_inductive_split(df.loc[timeframe_indices],hold_out)"
   ]
  },
  {
   "cell_type": "code",
   "execution_count": 6,
   "metadata": {},
   "outputs": [
    {
     "name": "stdout",
     "output_type": "stream",
     "text": [
      "The distribution of fraud for the train data is:\n",
      " 0    1204079\n",
      "1       7273\n",
      "Name: TX_FRAUD, dtype: int64\n",
      "The distribution of fraud for the inductive data is:\n",
      " 0    500000\n",
      "1      5898\n",
      "Name: TX_FRAUD, dtype: int64\n"
     ]
    }
   ],
   "source": [
    "print('The distribution of fraud for the train data is:\\n', train_data['TX_FRAUD'].value_counts())\n",
    "print('The distribution of fraud for the inductive data is:\\n', inductive_data['TX_FRAUD'].value_counts())"
   ]
  },
  {
   "cell_type": "markdown",
   "metadata": {},
   "source": [
    "#### 1.2. Selecting an Undersampling Rate"
   ]
  },
  {
   "cell_type": "code",
   "execution_count": 7,
   "metadata": {},
   "outputs": [],
   "source": [
    "from imblearn.under_sampling import RandomUnderSampler\n",
    "\n",
    "if not undersampling_rate is None:\n",
    "    print(\"An undersampling rate of \", undersampling_rate, \"is applied.\")\n",
    "    train_data['index'] = train_data.index\n",
    "    undersample = RandomUnderSampler(sampling_strategy=(undersampling_rate))\n",
    "    X, y = undersample.fit_resample(train_data, train_data['TX_FRAUD'])\n",
    "    train_data = X.set_index(X['index']).drop('index',axis=1)\n",
    "    print('The new distribution for the train set is:\\n', train_data[\"TX_FRAUD\"].value_counts())"
   ]
  },
  {
   "cell_type": "code",
   "execution_count": 8,
   "metadata": {},
   "outputs": [],
   "source": [
    "from components.GraphConstruction import GraphConstruction\n",
    "\n",
    "nodes = {\"transaction\":train_data.index, \"client\":train_data.CARD_PAN_ID, \"merchant\":train_data.TERM_MIDUID}\n",
    "edges = [zip(train_data.CARD_PAN_ID, train_data.index),zip(train_data.TERM_MIDUID, train_data.index)]\n",
    "\n",
    "graph = GraphConstruction(nodes, edges)\n",
    "figrl_graph = graph.get_edgelist()\n"
   ]
  },
  {
   "cell_type": "markdown",
   "metadata": {},
   "source": [
    "### Training"
   ]
  },
  {
   "cell_type": "code",
   "execution_count": 9,
   "metadata": {},
   "outputs": [],
   "source": [
    "import time\n",
    "t0 = time.time()\n",
    "A = nx.adjacency_matrix(graph.g_nx)\n",
    "#FIGRL hyperparameter (intermediate_dim)\n",
    "dim = intermediate_dim"
   ]
  },
  {
   "cell_type": "code",
   "execution_count": 10,
   "metadata": {
    "scrolled": false
   },
   "outputs": [
    {
     "name": "stdout",
     "output_type": "stream",
     "text": [
      "169.82421588897705\n"
     ]
    }
   ],
   "source": [
    "n,m = A.shape\n",
    "diags = A.sum(axis=1).flatten()\n",
    "\n",
    "with scipy.errstate(divide='ignore'):\n",
    "   diags_sqrt = 1.0/np.lib.scimath.sqrt(diags)\n",
    "diags_sqrt[np.isinf(diags_sqrt)] = 0\n",
    "DH = scipy.sparse.spdiags(diags_sqrt, [0], n, n, format='csr')\n",
    "\n",
    "Normalized_random_walk = (DH.dot(A)).dot(DH)\n",
    "\n",
    "#S = np.random.randn(n, dim) / np.sqrt(dim)\n",
    "S = np.array(pd.read_csv('S_train_matrix.csv', header=None))\n",
    "#np.savetxt(\"S_train_matrix.csv\", S, delimiter=\",\")\n",
    "\n",
    "C = Normalized_random_walk.dot(S)\n",
    "\n",
    "from scipy import sparse\n",
    "sC = sparse.csr_matrix(C)\n",
    "\n",
    "U, sigma, V = scipy.sparse.linalg.svds(sC, k=final_dimension, tol=0,which='LM')\n",
    "\n",
    "t1 = time.time()\n",
    "print(t1-t0)\n",
    "\n",
    "V = V.transpose()\n"
   ]
  },
  {
   "cell_type": "code",
   "execution_count": 11,
   "metadata": {},
   "outputs": [],
   "source": [
    "sigma = np.diag(sigma)"
   ]
  },
  {
   "cell_type": "code",
   "execution_count": 12,
   "metadata": {},
   "outputs": [],
   "source": [
    "figrl_train_emb = pd.DataFrame(U)\n",
    "figrl_train_emb = figrl_train_emb.set_index(figrl_train_emb.index+1)\n",
    "#figrl_train_emb = figrl_train_emb.loc[train_data.index]\n",
    "figrl_train_emb = figrl_train_emb.iloc[:len(train_data.index),:]"
   ]
  },
  {
   "cell_type": "markdown",
   "metadata": {},
   "source": [
    "### 2.2.2. Inductive Step FI-GRL "
   ]
  },
  {
   "cell_type": "code",
   "execution_count": 13,
   "metadata": {
    "scrolled": true
   },
   "outputs": [],
   "source": [
    "import numpy as np\n",
    "sigma = np.array(sigma)\n",
    "V = np.array(V)\n",
    "S = np.array(S)"
   ]
  },
  {
   "cell_type": "code",
   "execution_count": 14,
   "metadata": {
    "scrolled": true
   },
   "outputs": [],
   "source": [
    "train_data['index'] = train_data.index\n",
    "inductive_data['index'] = inductive_data.index\n",
    "inductive_graph_data = pd.concat((train_data,inductive_data))\n",
    "inductive_graph_data = inductive_graph_data.set_index(inductive_graph_data['index']).drop(\"index\",axis = 1)\n",
    "\n",
    "nodes = {\"transaction\": inductive_graph_data.index, \"client\":inductive_graph_data.CARD_PAN_ID.unique(), \"merchant\": inductive_graph_data.TERM_MIDUID.unique()}\n",
    "edges = [zip(inductive_graph_data.CARD_PAN_ID, inductive_graph_data.index),zip(inductive_graph_data.TERM_MIDUID, inductive_graph_data.index)]\n",
    "\n",
    "graph = GraphConstruction(nodes, edges)"
   ]
  },
  {
   "cell_type": "code",
   "execution_count": 15,
   "metadata": {},
   "outputs": [],
   "source": [
    "import collections\n",
    "\n",
    "inductive_dict = {}\n",
    "for node in inductive_data.index:\n",
    "    client = inductive_data.loc[node].CARD_PAN_ID\n",
    "    merchant = inductive_data.loc[node].TERM_MIDUID\n",
    "    inductive_dict[node] = [client,merchant]\n",
    "inductive_dict = collections.OrderedDict(sorted(inductive_dict.items()))\n"
   ]
  },
  {
   "cell_type": "code",
   "execution_count": 16,
   "metadata": {},
   "outputs": [],
   "source": [
    "import networkx as nx\n",
    "degrees = nx.degree(graph.g_nx)\n",
    "degrees = dict(degrees)\n",
    "degrees = collections.OrderedDict(sorted(degrees.items()))\n"
   ]
  },
  {
   "cell_type": "markdown",
   "metadata": {},
   "source": [
    "The 'get_vector' function is our implementation of the normalized random walk vector used in the paper of Jiang et al. This calculates this vector in a compressed way, reserving space and saving time."
   ]
  },
  {
   "cell_type": "code",
   "execution_count": 17,
   "metadata": {},
   "outputs": [],
   "source": [
    "from scipy.sparse import coo_matrix\n",
    "\n",
    "def get_vector(inductive_dict, max_id):\n",
    "    print(\"creating sparse vector matrix\")\n",
    "    row  = []\n",
    "    col  = []\n",
    "    data = []\n",
    "    location_finder = {}\n",
    "    i = 0\n",
    "    k = 0\n",
    "    for node, v in inductive_dict.items():\n",
    "        for n in v:\n",
    "            if n is not None:\n",
    "                row.append(i)\n",
    "                if n in location_finder.keys():\n",
    "                    x = location_finder.get(n)\n",
    "                    col.append(x)\n",
    "                    inductive_degree = len([x for x in v if x != None])\n",
    "                    value = 1/np.sqrt(inductive_degree)\n",
    "                    value = value * (1/np.sqrt(degrees[n]))\n",
    "                    data.append(value)\n",
    "                else:\n",
    "                    col.append(k)\n",
    "                    location_finder[n] = k\n",
    "                    #calculate value\n",
    "                    inductive_degree = len([x for x in v if x != None])\n",
    "                    value = 1/np.sqrt(inductive_degree)\n",
    "                    value = value * (1/np.sqrt(degrees[n]))\n",
    "                    data.append(value)\n",
    "                    k+=1\n",
    "                \n",
    "        i+=1        \n",
    "    row = np.array(row)\n",
    "    col = np.array(col)\n",
    "    data = np.array(data)\n",
    "    return coo_matrix((data, (row, col)), shape=(len(inductive_dict), k))\n"
   ]
  },
  {
   "cell_type": "code",
   "execution_count": 18,
   "metadata": {},
   "outputs": [
    {
     "name": "stdout",
     "output_type": "stream",
     "text": [
      "creating sparse vector matrix\n",
      "6.4949047565460205\n"
     ]
    }
   ],
   "source": [
    "import time\n",
    "t0 = time.time()\n",
    "v = get_vector(inductive_dict, max(inductive_graph_data.TERM_MIDUID))\n",
    "t1 = time.time()\n",
    "print(t1-t0)"
   ]
  },
  {
   "cell_type": "code",
   "execution_count": 19,
   "metadata": {},
   "outputs": [],
   "source": [
    "x,y = v.shape\n",
    "S = S[:y,:]"
   ]
  },
  {
   "cell_type": "code",
   "execution_count": 20,
   "metadata": {},
   "outputs": [
    {
     "name": "stdout",
     "output_type": "stream",
     "text": [
      "1.2484948635101318\n"
     ]
    }
   ],
   "source": [
    "import scipy as sp\n",
    "import scipy.sparse\n",
    "\n",
    "t0 = time.time()\n",
    "inductive_degrees = []\n",
    "for l in inductive_dict.values():\n",
    "    x = 0\n",
    "    for i in l:\n",
    "        if i is not None:\n",
    "            x+=1                     \n",
    "    inductive_degrees.append(x)\n",
    "    \n",
    "def sqrt_d_inv(inductive_degrees):\n",
    "        sqrt_d_inv = np.array([1/np.sqrt(degree)  if degree > 0 else 0 for degree in inductive_degrees])\n",
    "        return sp.sparse.spdiags(sqrt_d_inv,0, sqrt_d_inv.size, sqrt_d_inv.size)\n",
    "sqrt_d_inv = sqrt_d_inv(inductive_degrees)\n",
    "t1 = time.time()\n",
    "print(t1-t0)"
   ]
  },
  {
   "cell_type": "code",
   "execution_count": 21,
   "metadata": {},
   "outputs": [
    {
     "name": "stdout",
     "output_type": "stream",
     "text": [
      "0.754296064376831\n"
     ]
    }
   ],
   "source": [
    "t0 = time.time()\n",
    "p = v.dot(S)\n",
    "U =(p.dot(V)).dot(np.linalg.inv(sigma))\n",
    "U = sqrt_d_inv.dot(U)\n",
    "t1 = time.time()\n",
    "\n",
    "print(t1-t0)\n"
   ]
  },
  {
   "cell_type": "markdown",
   "metadata": {},
   "source": [
    "The vector v is now of a compressed length instead of the length of the maxid. This creates the opportunity and the need to reduce the size of S"
   ]
  },
  {
   "cell_type": "code",
   "execution_count": 22,
   "metadata": {},
   "outputs": [],
   "source": [
    "figrl_inductive_emb = pd.DataFrame(U, index=inductive_data.index)"
   ]
  },
  {
   "cell_type": "markdown",
   "metadata": {},
   "source": [
    "### 4. Classification: predictions based on inductive embeddings"
   ]
  },
  {
   "cell_type": "code",
   "execution_count": 23,
   "metadata": {},
   "outputs": [],
   "source": [
    "from xgboost import XGBClassifier\n",
    "classifier = XGBClassifier(n_estimators=100)"
   ]
  },
  {
   "cell_type": "code",
   "execution_count": 24,
   "metadata": {},
   "outputs": [],
   "source": [
    "figrl_train_emb.index= range(train_data.first_valid_index(),train_data.first_valid_index()+figrl_train_emb.last_valid_index())"
   ]
  },
  {
   "cell_type": "code",
   "execution_count": 25,
   "metadata": {},
   "outputs": [],
   "source": [
    "train_labels = train_data['TX_FRAUD']\n",
    "\n",
    "if add_additional_data is True:\n",
    "    figrl_train_emb_wf = pd.merge(figrl_train_emb, train_data.drop('TX_FRAUD', axis=1).drop('TX_DATETIME', axis=1), left_index=True, right_index=True)\n",
    "    figrl_inductive_emb_wf = pd.merge(figrl_inductive_emb, inductive_data.loc[figrl_inductive_emb.index].drop('TX_FRAUD', axis=1).drop('TX_DATETIME', axis=1), left_index=True, right_index=True)\n",
    "    \n",
    "    baseline_train = train_data.drop('TX_FRAUD', axis=1).drop('TX_DATETIME', axis=1)\n",
    "    baseline_inductive = inductive_data.drop('TX_FRAUD', axis=1).drop('TX_DATETIME', axis=1).loc[figrl_inductive_emb.index]\n",
    "    \n",
    "    classifier.fit(baseline_train, train_labels)\n",
    "    baseline_predictions = classifier.predict_proba(baseline_inductive)\n",
    "\n",
    "    classifier.fit(figrl_train_emb_wf, train_labels)\n",
    "    figrl_predictions = classifier.predict_proba(figrl_inductive_emb_wf)"
   ]
  },
  {
   "cell_type": "markdown",
   "metadata": {},
   "source": [
    "### 5. Evaluation"
   ]
  },
  {
   "cell_type": "code",
   "execution_count": 26,
   "metadata": {},
   "outputs": [
    {
     "name": "stdout",
     "output_type": "stream",
     "text": [
      "Average precision-recall score for  FIGRL+features  configuration XGBoost: 0.4933890881\n",
      "Average precision-recall score for  Baseline  configuration XGBoost: 0.2807964937\n",
      "FI-GRL: \n",
      "The  1.0 % Lift is equal to:  44.896397618310786\n",
      "Baseline: \n",
      "The  1.0 % Lift is equal to:  31.027344275494237\n"
     ]
    },
    {
     "data": {
      "image/png": "[encoded data removed]",
      "text/plain": [
       "<Figure size 432x288 with 1 Axes>"
      ]
     },
     "metadata": {
      "needs_background": "light"
     },
     "output_type": "display_data"
    }
   ],
   "source": [
    "from components.Evaluation import Evaluation\n",
    "import warnings\n",
    "warnings.filterwarnings(\"ignore\")\n",
    "\n",
    "inductive_labels = df.loc[figrl_inductive_emb.index]['TX_FRAUD']\n",
    "\n",
    "figrl_evaluation = Evaluation(figrl_predictions, inductive_labels, \"FIGRL+features\") \n",
    "\n",
    "figrl_evaluation.pr_curve()\n",
    "\n",
    "if add_additional_data is True:\n",
    "    baseline_evaluation = Evaluation(baseline_predictions, inductive_labels, \"Baseline\")\n",
    "    baseline_evaluation.pr_curve()\n",
    "\n",
    "print(\"FI-GRL: \")\n",
    "lift_score = figrl_evaluation.lift_score(0.01)\n",
    "\n",
    "if add_additional_data is True:\n",
    "    print(\"Baseline: \")\n",
    "    lift_score = baseline_evaluation.lift_score(0.01)\n"
   ]
  }
 ],
 "metadata": {
  "kernelspec": {
   "display_name": "newenv",
   "language": "python",
   "name": "newenv"
  },
  "language_info": {
   "codemirror_mode": {
    "name": "ipython",
    "version": 3
   },
   "file_extension": ".py",
   "mimetype": "text/x-python",
   "name": "python",
   "nbconvert_exporter": "python",
   "pygments_lexer": "ipython3",
   "version": "3.7.0"
  }
 },
 "nbformat": 4,
 "nbformat_minor": 4
}
