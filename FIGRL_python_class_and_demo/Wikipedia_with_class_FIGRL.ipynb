{
 "cells": [
  {
   "cell_type": "markdown",
   "metadata": {},
   "source": [
    "# Wikipedia Pipeline: FIGRL test"
   ]
  },
  {
   "cell_type": "markdown",
   "metadata": {},
   "source": [
    "Before the pipeline for the Stanford Wikipedia dataset kicks off, some global parameters need to be defined. We devised a manual\n",
    "`kfold`-fold out-of-time validation, by dividing the dataset based on a rolling window approach. `timeframe`specifes which timeframe is selected. The `embedding_size`defines the dimension of the embeddings learned by Fast Inductive Graph Representation Learning algorithm. The `intermediate_dimension` is given by choosing an appropriate approximation ratio by the following formula: `intermediate_dimension` = max{4log(amount of nodes)/e^2, k/e^2} with e the approximation ratio and k the final embeddings_size."
   ]
  },
  {
   "cell_type": "code",
   "execution_count": 1,
   "metadata": {},
   "outputs": [],
   "source": [
    "# Global parameters:\n",
    "kfold = 5\n",
    "timeframe = 2\n",
    "embedding_size = 40\n",
    "intermediate_dimension = 400"
   ]
  },
  {
   "cell_type": "markdown",
   "metadata": {},
   "source": [
    "## 1. Loading the Wikipedia Dataset"
   ]
  },
  {
   "cell_type": "code",
   "execution_count": 2,
   "metadata": {},
   "outputs": [],
   "source": [
    "import warnings\n",
    "warnings.simplefilter(action='ignore', category=FutureWarning)\n",
    "import pandas as pd \n",
    "import numpy as np\n",
    "import time\n",
    "import dateparser\n",
    "import networkx as nx\n",
    "import scipy\n",
    "from scipy.sparse import csr\n",
    "import scipy.sparse"
   ]
  },
  {
   "cell_type": "code",
   "execution_count": 3,
   "metadata": {},
   "outputs": [],
   "source": [
    "df = pd.read_csv(\"C:\\\\Users\\\\hendr\\\\OneDrive\\\\Documents\\\\KU Leuven Job\\\\datasets\\\\wikipedia.csv\",header=None, skiprows=1)\n",
    "df = df.set_index(df.index+1)"
   ]
  },
  {
   "cell_type": "code",
   "execution_count": 4,
   "metadata": {},
   "outputs": [],
   "source": [
    "column_name = ['user_id','item_id','timestamp','state_label']\n",
    "column_name.extend(range(4,176))\n",
    "df.columns = column_name"
   ]
  },
  {
   "cell_type": "code",
   "execution_count": 5,
   "metadata": {},
   "outputs": [
    {
     "name": "stdout",
     "output_type": "stream",
     "text": [
      "165702\n"
     ]
    }
   ],
   "source": [
    "df['user_id']+=max(df.index)+1\n",
    "df['item_id']+=max(df.user_id)+1\n",
    "print(min(df.item_id))"
   ]
  },
  {
   "cell_type": "markdown",
   "metadata": {},
   "source": [
    "def split(x, n): \n",
    "    split_list = []\n",
    "    if(x < n):  \n",
    "        print(-1) \n",
    "    elif (x % n == 0): \n",
    "        for i in range(n): \n",
    "            split_list.append(x//n) \n",
    "    else: \n",
    "        zp = n - (x % n) \n",
    "        pp = x//n \n",
    "        for i in range(n): \n",
    "            if(i>= zp): \n",
    "                split_list.append(pp + 1) \n",
    "            else: \n",
    "                split_list.append(pp) \n",
    "    return split_list"
   ]
  },
  {
   "cell_type": "markdown",
   "metadata": {},
   "source": [
    "split_list = split(672447,kfold)\n",
    "split_list\n",
    "k = 0\n",
    "for i in range(0,kfold):\n",
    "    k+=split_list[i]\n",
    "    split_list[i]=k"
   ]
  },
  {
   "cell_type": "markdown",
   "metadata": {},
   "source": [
    "begin_id = split_list[timeframe-2]\n",
    "end_id = split_list[timeframe-1]"
   ]
  },
  {
   "cell_type": "markdown",
   "metadata": {},
   "source": [
    "data_timeframe = df.iloc[begin_id:end_id,:]\n",
    "cutoff = round(0.6*len(data_timeframe))\n",
    "train_data = data_timeframe.head(cutoff)\n",
    "inductive_data = data_timeframe.tail(len(data_timeframe)-cutoff)"
   ]
  },
  {
   "cell_type": "code",
   "execution_count": 6,
   "metadata": {},
   "outputs": [],
   "source": [
    "cutoff = round(0.6*len(df))\n",
    "train_data = df.head(cutoff)\n",
    "inductive_data = df.tail(len(df)-cutoff)"
   ]
  },
  {
   "cell_type": "code",
   "execution_count": 7,
   "metadata": {
    "scrolled": true
   },
   "outputs": [
    {
     "name": "stdout",
     "output_type": "stream",
     "text": [
      "The distribution of banned pages for the train data is:\n",
      " 0    94349\n",
      "1      135\n",
      "Name: state_label, dtype: int64\n",
      "The distribution of banned pages for the inductive data is:\n",
      " 0    62908\n",
      "1       82\n",
      "Name: state_label, dtype: int64\n"
     ]
    }
   ],
   "source": [
    "print('The distribution of banned pages for the train data is:\\n', train_data['state_label'].value_counts())\n",
    "print('The distribution of banned pages for the inductive data is:\\n', inductive_data['state_label'].value_counts())"
   ]
  },
  {
   "cell_type": "markdown",
   "metadata": {},
   "source": [
    "### 1.1 Undersampling"
   ]
  },
  {
   "cell_type": "code",
   "execution_count": 8,
   "metadata": {},
   "outputs": [],
   "source": [
    "undersampling_rate = None"
   ]
  },
  {
   "cell_type": "code",
   "execution_count": 9,
   "metadata": {},
   "outputs": [
    {
     "name": "stderr",
     "output_type": "stream",
     "text": [
      "Using TensorFlow backend.\n"
     ]
    }
   ],
   "source": [
    "from imblearn.under_sampling import RandomUnderSampler\n",
    "\n",
    "if not undersampling_rate is None:\n",
    "    print(\"An undersampling rate of \", undersampling_rate, \"is applied.\")\n",
    "    train_data['index'] = train_data.index\n",
    "    undersample = RandomUnderSampler(sampling_strategy=(undersampling_rate))\n",
    "    X, y = undersample.fit_resample(train_data, train_data['state_label'])\n",
    "    train_data = X.set_index(X['index']).drop('index',axis=1)\n",
    "    print('The new distribution for the train set is:\\n', train_data[\"state_label\"].value_counts())\n"
   ]
  },
  {
   "cell_type": "markdown",
   "metadata": {},
   "source": [
    "## 2. Construct the Graph Network"
   ]
  },
  {
   "cell_type": "markdown",
   "metadata": {},
   "source": [
    "A networkx graph is constructed with edit, user and webpage nodes. Creating a three partite graph. The FI-GRL framework derives embeddings starting from an adjacency matrix that it constructs using the graph's edgelist. "
   ]
  },
  {
   "cell_type": "code",
   "execution_count": 10,
   "metadata": {},
   "outputs": [],
   "source": [
    "nodes = {\"edit\":train_data.index, \"user\":train_data.user_id, \"webpage\":train_data.item_id}\n",
    "edges = [zip(train_data.user_id, train_data.index),zip(train_data.item_id, train_data.index)]\n",
    "g_nx = nx.Graph()\n",
    "for key, values in nodes.items():\n",
    "            g_nx.add_nodes_from(values, ntype=key)\n",
    "for edge in edges:\n",
    "            g_nx.add_edges_from(edge)"
   ]
  },
  {
   "cell_type": "markdown",
   "metadata": {},
   "source": [
    "## 3. Train FIGRL"
   ]
  },
  {
   "cell_type": "markdown",
   "metadata": {},
   "source": [
    "FI-GRL, a fast inductive graph representation framework is trained using the aforeconstructed graph. This algorithm is implemented in matlab so we make use of matlab.engine to deploy its native implementation. First, we instantiate the FI-GRL class with the intermediate dimension of the matrix between the input graph and the embedding space, in addition to the size of final dimension (embedding space). FI-GRL's train step returns three matrices: U, which represents the embedding space, sigma and v, which are matrices that will be used in the inductive step to generate embeddings for unseen nodes. "
   ]
  },
  {
   "cell_type": "code",
   "execution_count": 11,
   "metadata": {},
   "outputs": [],
   "source": [
    "from FIGRL import FIGRL"
   ]
  },
  {
   "cell_type": "code",
   "execution_count": 12,
   "metadata": {},
   "outputs": [],
   "source": [
    "figrl = FIGRL(embedding_size, intermediate_dimension)\n",
    "figrl_train_emb = figrl.train(g_nx)\n",
    "figrl_train_emb = figrl_train_emb.loc[train_data.index]"
   ]
  },
  {
   "cell_type": "markdown",
   "metadata": {},
   "source": [
    "## 4. Inductive Step"
   ]
  },
  {
   "cell_type": "code",
   "execution_count": 13,
   "metadata": {},
   "outputs": [],
   "source": [
    "pd.options.mode.chained_assignment = None\n",
    "\n",
    "inductive_graph_data = pd.concat((train_data,inductive_data))"
   ]
  },
  {
   "cell_type": "code",
   "execution_count": 14,
   "metadata": {},
   "outputs": [],
   "source": [
    "nodes = {\"edit\":inductive_graph_data.index, \"user\":inductive_graph_data.user_id, \"webpage\":inductive_graph_data.item_id}\n",
    "edges = [zip(inductive_graph_data.user_id, inductive_graph_data.index),zip(inductive_graph_data.item_id, inductive_graph_data.index)]\n",
    "graph_full = nx.Graph()\n",
    "\n",
    "for key, values in nodes.items():\n",
    "            graph_full.add_nodes_from(values, ntype=key)\n",
    "for edge in edges:\n",
    "            graph_full.add_edges_from(edge)"
   ]
  },
  {
   "cell_type": "code",
   "execution_count": 15,
   "metadata": {},
   "outputs": [],
   "source": [
    "import collections\n",
    "\n",
    "inductive_dict = {}\n",
    "for node in inductive_data.index:\n",
    "    user = inductive_data.loc[node].user_id\n",
    "    item = inductive_data.loc[node].item_id\n",
    "    inductive_dict[node] = [user,item]\n",
    "inductive_dict = collections.OrderedDict(sorted(inductive_dict.items()))"
   ]
  },
  {
   "cell_type": "code",
   "execution_count": 16,
   "metadata": {},
   "outputs": [
    {
     "name": "stdout",
     "output_type": "stream",
     "text": [
      "creating sparse vector matrix\n"
     ]
    }
   ],
   "source": [
    "figrl_inductive_emb = figrl.inductive_step(graph_full, inductive_dict, max(inductive_graph_data.item_id), inductive_data.index)"
   ]
  },
  {
   "cell_type": "markdown",
   "metadata": {},
   "source": [
    "## 5. Evaluation"
   ]
  },
  {
   "cell_type": "code",
   "execution_count": 17,
   "metadata": {},
   "outputs": [],
   "source": [
    "from xgboost import XGBClassifier\n",
    "classifier = XGBClassifier(n_estimators=100)"
   ]
  },
  {
   "cell_type": "code",
   "execution_count": 18,
   "metadata": {},
   "outputs": [
    {
     "data": {
      "text/html": [
       "<div>\n",
       "<style scoped>\n",
       "    .dataframe tbody tr th:only-of-type {\n",
       "        vertical-align: middle;\n",
       "    }\n",
       "\n",
       "    .dataframe tbody tr th {\n",
       "        vertical-align: top;\n",
       "    }\n",
       "\n",
       "    .dataframe thead th {\n",
       "        text-align: right;\n",
       "    }\n",
       "</style>\n",
       "<table border=\"1\" class=\"dataframe\">\n",
       "  <thead>\n",
       "    <tr style=\"text-align: right;\">\n",
       "      <th></th>\n",
       "      <th>0</th>\n",
       "      <th>1</th>\n",
       "      <th>2</th>\n",
       "      <th>3</th>\n",
       "      <th>4</th>\n",
       "      <th>5</th>\n",
       "      <th>6</th>\n",
       "      <th>7</th>\n",
       "      <th>8</th>\n",
       "      <th>9</th>\n",
       "      <th>...</th>\n",
       "      <th>30</th>\n",
       "      <th>31</th>\n",
       "      <th>32</th>\n",
       "      <th>33</th>\n",
       "      <th>34</th>\n",
       "      <th>35</th>\n",
       "      <th>36</th>\n",
       "      <th>37</th>\n",
       "      <th>38</th>\n",
       "      <th>39</th>\n",
       "    </tr>\n",
       "  </thead>\n",
       "  <tbody>\n",
       "    <tr>\n",
       "      <td>94485</td>\n",
       "      <td>0.000341</td>\n",
       "      <td>0.000791</td>\n",
       "      <td>0.001113</td>\n",
       "      <td>0.000434</td>\n",
       "      <td>0.000255</td>\n",
       "      <td>-0.001020</td>\n",
       "      <td>0.000003</td>\n",
       "      <td>0.000216</td>\n",
       "      <td>-0.000992</td>\n",
       "      <td>-0.000103</td>\n",
       "      <td>...</td>\n",
       "      <td>-0.000361</td>\n",
       "      <td>-0.001476</td>\n",
       "      <td>-0.000302</td>\n",
       "      <td>-0.000377</td>\n",
       "      <td>-0.000907</td>\n",
       "      <td>-0.000660</td>\n",
       "      <td>-0.000990</td>\n",
       "      <td>0.000205</td>\n",
       "      <td>0.000612</td>\n",
       "      <td>0.001445</td>\n",
       "    </tr>\n",
       "    <tr>\n",
       "      <td>94486</td>\n",
       "      <td>0.000129</td>\n",
       "      <td>0.000074</td>\n",
       "      <td>-0.000199</td>\n",
       "      <td>-0.000276</td>\n",
       "      <td>0.000325</td>\n",
       "      <td>0.000313</td>\n",
       "      <td>0.000093</td>\n",
       "      <td>0.000189</td>\n",
       "      <td>-0.000574</td>\n",
       "      <td>-0.000285</td>\n",
       "      <td>...</td>\n",
       "      <td>0.000101</td>\n",
       "      <td>-0.000397</td>\n",
       "      <td>0.000174</td>\n",
       "      <td>0.000448</td>\n",
       "      <td>-0.000257</td>\n",
       "      <td>0.000857</td>\n",
       "      <td>-0.000749</td>\n",
       "      <td>0.000048</td>\n",
       "      <td>-0.000102</td>\n",
       "      <td>-0.000097</td>\n",
       "    </tr>\n",
       "    <tr>\n",
       "      <td>94487</td>\n",
       "      <td>0.000087</td>\n",
       "      <td>0.001248</td>\n",
       "      <td>-0.000025</td>\n",
       "      <td>0.000515</td>\n",
       "      <td>0.001128</td>\n",
       "      <td>0.000284</td>\n",
       "      <td>-0.000065</td>\n",
       "      <td>0.000508</td>\n",
       "      <td>-0.000142</td>\n",
       "      <td>0.000764</td>\n",
       "      <td>...</td>\n",
       "      <td>-0.000266</td>\n",
       "      <td>-0.000803</td>\n",
       "      <td>-0.001470</td>\n",
       "      <td>0.000194</td>\n",
       "      <td>-0.000757</td>\n",
       "      <td>-0.000032</td>\n",
       "      <td>0.000117</td>\n",
       "      <td>0.000242</td>\n",
       "      <td>-0.000919</td>\n",
       "      <td>0.000610</td>\n",
       "    </tr>\n",
       "    <tr>\n",
       "      <td>94488</td>\n",
       "      <td>0.000300</td>\n",
       "      <td>0.000324</td>\n",
       "      <td>-0.001119</td>\n",
       "      <td>0.000454</td>\n",
       "      <td>0.000444</td>\n",
       "      <td>0.000774</td>\n",
       "      <td>0.000576</td>\n",
       "      <td>0.000072</td>\n",
       "      <td>0.000056</td>\n",
       "      <td>0.000797</td>\n",
       "      <td>...</td>\n",
       "      <td>0.000289</td>\n",
       "      <td>-0.000569</td>\n",
       "      <td>-0.001507</td>\n",
       "      <td>-0.000222</td>\n",
       "      <td>0.000052</td>\n",
       "      <td>-0.000282</td>\n",
       "      <td>-0.000035</td>\n",
       "      <td>-0.000223</td>\n",
       "      <td>0.000949</td>\n",
       "      <td>0.000362</td>\n",
       "    </tr>\n",
       "    <tr>\n",
       "      <td>94489</td>\n",
       "      <td>0.000203</td>\n",
       "      <td>-0.000700</td>\n",
       "      <td>0.000397</td>\n",
       "      <td>0.000902</td>\n",
       "      <td>0.000042</td>\n",
       "      <td>0.000404</td>\n",
       "      <td>0.000054</td>\n",
       "      <td>0.000184</td>\n",
       "      <td>0.000863</td>\n",
       "      <td>0.001251</td>\n",
       "      <td>...</td>\n",
       "      <td>-0.000202</td>\n",
       "      <td>-0.001061</td>\n",
       "      <td>-0.000553</td>\n",
       "      <td>0.000494</td>\n",
       "      <td>-0.000077</td>\n",
       "      <td>-0.000380</td>\n",
       "      <td>0.000151</td>\n",
       "      <td>0.000282</td>\n",
       "      <td>-0.000291</td>\n",
       "      <td>0.000219</td>\n",
       "    </tr>\n",
       "    <tr>\n",
       "      <td>...</td>\n",
       "      <td>...</td>\n",
       "      <td>...</td>\n",
       "      <td>...</td>\n",
       "      <td>...</td>\n",
       "      <td>...</td>\n",
       "      <td>...</td>\n",
       "      <td>...</td>\n",
       "      <td>...</td>\n",
       "      <td>...</td>\n",
       "      <td>...</td>\n",
       "      <td>...</td>\n",
       "      <td>...</td>\n",
       "      <td>...</td>\n",
       "      <td>...</td>\n",
       "      <td>...</td>\n",
       "      <td>...</td>\n",
       "      <td>...</td>\n",
       "      <td>...</td>\n",
       "      <td>...</td>\n",
       "      <td>...</td>\n",
       "      <td>...</td>\n",
       "    </tr>\n",
       "    <tr>\n",
       "      <td>157470</td>\n",
       "      <td>0.000519</td>\n",
       "      <td>0.001350</td>\n",
       "      <td>0.000264</td>\n",
       "      <td>-0.000934</td>\n",
       "      <td>0.000273</td>\n",
       "      <td>0.001328</td>\n",
       "      <td>0.000435</td>\n",
       "      <td>0.000162</td>\n",
       "      <td>-0.000038</td>\n",
       "      <td>-0.000711</td>\n",
       "      <td>...</td>\n",
       "      <td>-0.001332</td>\n",
       "      <td>-0.000765</td>\n",
       "      <td>-0.001204</td>\n",
       "      <td>-0.000215</td>\n",
       "      <td>-0.001053</td>\n",
       "      <td>-0.000814</td>\n",
       "      <td>-0.000666</td>\n",
       "      <td>0.000232</td>\n",
       "      <td>0.000471</td>\n",
       "      <td>0.000866</td>\n",
       "    </tr>\n",
       "    <tr>\n",
       "      <td>157471</td>\n",
       "      <td>-0.000716</td>\n",
       "      <td>0.000274</td>\n",
       "      <td>-0.000184</td>\n",
       "      <td>-0.000618</td>\n",
       "      <td>0.000219</td>\n",
       "      <td>0.000218</td>\n",
       "      <td>0.000447</td>\n",
       "      <td>0.000720</td>\n",
       "      <td>-0.000578</td>\n",
       "      <td>-0.000852</td>\n",
       "      <td>...</td>\n",
       "      <td>-0.000115</td>\n",
       "      <td>-0.000235</td>\n",
       "      <td>-0.000334</td>\n",
       "      <td>0.000067</td>\n",
       "      <td>0.001409</td>\n",
       "      <td>-0.000549</td>\n",
       "      <td>0.000199</td>\n",
       "      <td>0.000697</td>\n",
       "      <td>-0.000425</td>\n",
       "      <td>0.000696</td>\n",
       "    </tr>\n",
       "    <tr>\n",
       "      <td>157472</td>\n",
       "      <td>0.000310</td>\n",
       "      <td>0.000650</td>\n",
       "      <td>0.000288</td>\n",
       "      <td>-0.000488</td>\n",
       "      <td>-0.000030</td>\n",
       "      <td>0.000624</td>\n",
       "      <td>0.001157</td>\n",
       "      <td>-0.000647</td>\n",
       "      <td>-0.000140</td>\n",
       "      <td>0.000928</td>\n",
       "      <td>...</td>\n",
       "      <td>0.000284</td>\n",
       "      <td>-0.000730</td>\n",
       "      <td>0.000794</td>\n",
       "      <td>-0.000154</td>\n",
       "      <td>0.000235</td>\n",
       "      <td>0.000464</td>\n",
       "      <td>0.000269</td>\n",
       "      <td>0.000068</td>\n",
       "      <td>-0.000397</td>\n",
       "      <td>-0.000249</td>\n",
       "    </tr>\n",
       "    <tr>\n",
       "      <td>157473</td>\n",
       "      <td>0.000016</td>\n",
       "      <td>0.001195</td>\n",
       "      <td>-0.000125</td>\n",
       "      <td>0.000079</td>\n",
       "      <td>-0.000121</td>\n",
       "      <td>-0.000557</td>\n",
       "      <td>0.000192</td>\n",
       "      <td>0.001236</td>\n",
       "      <td>0.000572</td>\n",
       "      <td>0.000261</td>\n",
       "      <td>...</td>\n",
       "      <td>-0.000214</td>\n",
       "      <td>0.001244</td>\n",
       "      <td>-0.000703</td>\n",
       "      <td>-0.000377</td>\n",
       "      <td>-0.001977</td>\n",
       "      <td>0.000996</td>\n",
       "      <td>-0.000344</td>\n",
       "      <td>0.000563</td>\n",
       "      <td>0.000453</td>\n",
       "      <td>0.001369</td>\n",
       "    </tr>\n",
       "    <tr>\n",
       "      <td>157474</td>\n",
       "      <td>0.000310</td>\n",
       "      <td>0.000650</td>\n",
       "      <td>0.000288</td>\n",
       "      <td>-0.000488</td>\n",
       "      <td>-0.000030</td>\n",
       "      <td>0.000624</td>\n",
       "      <td>0.001157</td>\n",
       "      <td>-0.000647</td>\n",
       "      <td>-0.000140</td>\n",
       "      <td>0.000928</td>\n",
       "      <td>...</td>\n",
       "      <td>0.000284</td>\n",
       "      <td>-0.000730</td>\n",
       "      <td>0.000794</td>\n",
       "      <td>-0.000154</td>\n",
       "      <td>0.000235</td>\n",
       "      <td>0.000464</td>\n",
       "      <td>0.000269</td>\n",
       "      <td>0.000068</td>\n",
       "      <td>-0.000397</td>\n",
       "      <td>-0.000249</td>\n",
       "    </tr>\n",
       "  </tbody>\n",
       "</table>\n",
       "<p>62990 rows × 40 columns</p>\n",
       "</div>"
      ],
      "text/plain": [
       "              0         1         2         3         4         5         6   \\\n",
       "94485   0.000341  0.000791  0.001113  0.000434  0.000255 -0.001020  0.000003   \n",
       "94486   0.000129  0.000074 -0.000199 -0.000276  0.000325  0.000313  0.000093   \n",
       "94487   0.000087  0.001248 -0.000025  0.000515  0.001128  0.000284 -0.000065   \n",
       "94488   0.000300  0.000324 -0.001119  0.000454  0.000444  0.000774  0.000576   \n",
       "94489   0.000203 -0.000700  0.000397  0.000902  0.000042  0.000404  0.000054   \n",
       "...          ...       ...       ...       ...       ...       ...       ...   \n",
       "157470  0.000519  0.001350  0.000264 -0.000934  0.000273  0.001328  0.000435   \n",
       "157471 -0.000716  0.000274 -0.000184 -0.000618  0.000219  0.000218  0.000447   \n",
       "157472  0.000310  0.000650  0.000288 -0.000488 -0.000030  0.000624  0.001157   \n",
       "157473  0.000016  0.001195 -0.000125  0.000079 -0.000121 -0.000557  0.000192   \n",
       "157474  0.000310  0.000650  0.000288 -0.000488 -0.000030  0.000624  0.001157   \n",
       "\n",
       "              7         8         9   ...        30        31        32  \\\n",
       "94485   0.000216 -0.000992 -0.000103  ... -0.000361 -0.001476 -0.000302   \n",
       "94486   0.000189 -0.000574 -0.000285  ...  0.000101 -0.000397  0.000174   \n",
       "94487   0.000508 -0.000142  0.000764  ... -0.000266 -0.000803 -0.001470   \n",
       "94488   0.000072  0.000056  0.000797  ...  0.000289 -0.000569 -0.001507   \n",
       "94489   0.000184  0.000863  0.001251  ... -0.000202 -0.001061 -0.000553   \n",
       "...          ...       ...       ...  ...       ...       ...       ...   \n",
       "157470  0.000162 -0.000038 -0.000711  ... -0.001332 -0.000765 -0.001204   \n",
       "157471  0.000720 -0.000578 -0.000852  ... -0.000115 -0.000235 -0.000334   \n",
       "157472 -0.000647 -0.000140  0.000928  ...  0.000284 -0.000730  0.000794   \n",
       "157473  0.001236  0.000572  0.000261  ... -0.000214  0.001244 -0.000703   \n",
       "157474 -0.000647 -0.000140  0.000928  ...  0.000284 -0.000730  0.000794   \n",
       "\n",
       "              33        34        35        36        37        38        39  \n",
       "94485  -0.000377 -0.000907 -0.000660 -0.000990  0.000205  0.000612  0.001445  \n",
       "94486   0.000448 -0.000257  0.000857 -0.000749  0.000048 -0.000102 -0.000097  \n",
       "94487   0.000194 -0.000757 -0.000032  0.000117  0.000242 -0.000919  0.000610  \n",
       "94488  -0.000222  0.000052 -0.000282 -0.000035 -0.000223  0.000949  0.000362  \n",
       "94489   0.000494 -0.000077 -0.000380  0.000151  0.000282 -0.000291  0.000219  \n",
       "...          ...       ...       ...       ...       ...       ...       ...  \n",
       "157470 -0.000215 -0.001053 -0.000814 -0.000666  0.000232  0.000471  0.000866  \n",
       "157471  0.000067  0.001409 -0.000549  0.000199  0.000697 -0.000425  0.000696  \n",
       "157472 -0.000154  0.000235  0.000464  0.000269  0.000068 -0.000397 -0.000249  \n",
       "157473 -0.000377 -0.001977  0.000996 -0.000344  0.000563  0.000453  0.001369  \n",
       "157474 -0.000154  0.000235  0.000464  0.000269  0.000068 -0.000397 -0.000249  \n",
       "\n",
       "[62990 rows x 40 columns]"
      ]
     },
     "execution_count": 18,
     "metadata": {},
     "output_type": "execute_result"
    }
   ],
   "source": [
    "figrl_inductive_emb"
   ]
  },
  {
   "cell_type": "code",
   "execution_count": 19,
   "metadata": {},
   "outputs": [],
   "source": [
    "train_labels = train_data['state_label']\n",
    "figrl_train_emb = pd.merge(figrl_train_emb, train_data.loc[figrl_train_emb.index].drop('state_label', axis=1), left_index=True, right_index=True)\n",
    "figrl_inductive_emb = pd.merge(figrl_inductive_emb, inductive_data.loc[figrl_inductive_emb.index].drop('state_label', axis=1), left_index=True, right_index=True)\n",
    "\n",
    "baseline_train = train_data.drop('state_label', axis=1)\n",
    "baseline_inductive = inductive_data.drop('state_label', axis=1)\n",
    "\n",
    "classifier.fit(baseline_train, train_labels)\n",
    "baseline_predictions = classifier.predict_proba(baseline_inductive)\n",
    "    \n",
    "classifier.fit(figrl_train_emb, train_labels)\n",
    "predictions = classifier.predict_proba(figrl_inductive_emb)\n"
   ]
  },
  {
   "cell_type": "code",
   "execution_count": 20,
   "metadata": {},
   "outputs": [],
   "source": [
    "import scikitplot\n",
    "from sklearn.metrics import precision_recall_curve\n",
    "from sklearn.metrics import average_precision_score\n",
    "from matplotlib import pyplot\n",
    "\n",
    "def pr_curve(probabilities, labels, name):\n",
    "\n",
    "        \"\"\"\n",
    "        This function plots the precision recall curve for the used classification model and a majority classifier.\n",
    "        \n",
    "        \"\"\"\n",
    "        probs = probabilities[:, 1]\n",
    "        precision, recall, _ = precision_recall_curve(labels, probs)\n",
    "        pyplot.plot(recall, precision, label=name)\n",
    "        # axis labels\n",
    "        pyplot.xlabel('Recall')\n",
    "        pyplot.ylabel('Precision')\n",
    "        # show the legend\n",
    "        pyplot.legend()\n",
    "        \n",
    "        print('Average precision-recall score for ', name, ' configuration XGBoost: {0:0.10f}'.format(average_precision_score(labels, probs)))"
   ]
  },
  {
   "cell_type": "code",
   "execution_count": 21,
   "metadata": {},
   "outputs": [
    {
     "name": "stdout",
     "output_type": "stream",
     "text": [
      "Average precision-recall score for  FI-GRL  configuration XGBoost: 0.0377795219\n",
      "Average precision-recall score for  Baseline  configuration XGBoost: 0.0214397362\n"
     ]
    },
    {
     "data": {
      "image/png": "[encoded data removed]",
      "text/plain": [
       "<Figure size 432x288 with 1 Axes>"
      ]
     },
     "metadata": {
      "needs_background": "light"
     },
     "output_type": "display_data"
    }
   ],
   "source": [
    "inductive_labels = df.loc[figrl_inductive_emb.index]['state_label']\n",
    "\n",
    "pr_curve(predictions, inductive_labels, \"FI-GRL\")\n",
    "\n",
    "pr_curve(baseline_predictions, inductive_labels, \"Baseline\")"
   ]
  }
 ],
 "metadata": {
  "kernelspec": {
   "display_name": "Python 3",
   "language": "python",
   "name": "python3"
  },
  "language_info": {
   "codemirror_mode": {
    "name": "ipython",
    "version": 3
   },
   "file_extension": ".py",
   "mimetype": "text/x-python",
   "name": "python",
   "nbconvert_exporter": "python",
   "pygments_lexer": "ipython3",
   "version": "3.7.4"
  }
 },
 "nbformat": 4,
 "nbformat_minor": 2
}
