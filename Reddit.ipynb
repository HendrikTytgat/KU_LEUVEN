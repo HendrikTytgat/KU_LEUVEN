{
 "cells": [
  {
   "cell_type": "markdown",
   "metadata": {},
   "source": [
    "# Reddit Pipeline: FIGRL test"
   ]
  },
  {
   "cell_type": "markdown",
   "metadata": {},
   "source": [
    "The dataset used in this experiment can be downloaded through te following link:\n",
    "http://snap.stanford.edu/jodie/reddit.csv"
   ]
  },
  {
   "cell_type": "markdown",
   "metadata": {},
   "source": [
    "Before the pipeline for the Stanford Wikipedia dataset kicks off, some global parameters need to be defined. We devised a manual\n",
    "`kfold`-fold out-of-time validation, by dividing the dataset based on a rolling window approach. `timeframe`specifes which timeframe is selected. The `embedding_size`defines the dimension of the embeddings learned by Fast Inductive Graph Representation Learning algorithm. The `intermediate_dimension` is given by choosing an appropriate approximation ratio by the following formula: `intermediate_dimension` = max{4log(amount of nodes)/e^2, k/e^2} with e the approximation ratio and k the final embeddings_size."
   ]
  },
  {
   "cell_type": "code",
   "execution_count": 1,
   "metadata": {},
   "outputs": [],
   "source": [
    "# Global parameters:\n",
    "kfold = 5\n",
    "timeframe = 2\n",
    "embedding_size = 10\n",
    "intermediate_dimension = 100"
   ]
  },
  {
   "cell_type": "markdown",
   "metadata": {},
   "source": [
    "## 1. Loading the Wikipedia Dataset"
   ]
  },
  {
   "cell_type": "code",
   "execution_count": 2,
   "metadata": {},
   "outputs": [],
   "source": [
    "import warnings\n",
    "warnings.simplefilter(action='ignore', category=FutureWarning)\n",
    "import pandas as pd \n",
    "import numpy as np\n",
    "import time\n",
    "import dateparser\n",
    "import networkx as nx\n",
    "import stellargraph as sg\n",
    "import scipy\n",
    "from scipy.sparse import csr\n",
    "import scipy.sparse"
   ]
  },
  {
   "cell_type": "code",
   "execution_count": 3,
   "metadata": {},
   "outputs": [],
   "source": [
    "df = pd.read_csv(\"C:\\\\Users\\\\hendr\\\\OneDrive\\\\Documents\\\\KU Leuven Job\\\\datasets\\\\reddit.csv\",header=None, skiprows=1)\n",
    "df = df.set_index(df.index+1)"
   ]
  },
  {
   "cell_type": "code",
   "execution_count": 4,
   "metadata": {},
   "outputs": [],
   "source": [
    "column_name = ['user_id','item_id','timestamp','state_label']\n",
    "column_name.extend(range(4,176))\n",
    "df.columns = column_name"
   ]
  },
  {
   "cell_type": "code",
   "execution_count": 5,
   "metadata": {},
   "outputs": [
    {
     "name": "stdout",
     "output_type": "stream",
     "text": [
      "682448\n"
     ]
    }
   ],
   "source": [
    "df['user_id']+=max(df.index)+1\n",
    "df['item_id']+=max(df.user_id)+1\n",
    "print(min(df.item_id))"
   ]
  },
  {
   "cell_type": "code",
   "execution_count": 6,
   "metadata": {},
   "outputs": [],
   "source": [
    "#def split(x, n): \n",
    "#    split_list = []\n",
    "#    if(x < n):  \n",
    "#        print(-1) \n",
    "#    elif (x % n == 0): \n",
    "#        for i in range(n): \n",
    "#            split_list.append(x//n) \n",
    "#    else: \n",
    "#        zp = n - (x % n) \n",
    "#        pp = x//n \n",
    "#        for i in range(n): \n",
    "#            if(i>= zp): \n",
    "#                split_list.append(pp + 1) \n",
    "#            else: \n",
    "#                split_list.append(pp) \n",
    "#    return split_list"
   ]
  },
  {
   "cell_type": "code",
   "execution_count": 7,
   "metadata": {},
   "outputs": [],
   "source": [
    "#split_list = split(672447,kfold)\n",
    "#split_list\n",
    "#k = 0\n",
    "#for i in range(0,kfold):\n",
    "#    k+=split_list[i]\n",
    "#    split_list[i]=k"
   ]
  },
  {
   "cell_type": "code",
   "execution_count": 8,
   "metadata": {},
   "outputs": [],
   "source": [
    "#begin_id = split_list[timeframe-2]\n",
    "#end_id = split_list[timeframe-1]"
   ]
  },
  {
   "cell_type": "code",
   "execution_count": 9,
   "metadata": {},
   "outputs": [],
   "source": [
    "#data_timeframe = df.iloc[begin_id:end_id,:]\n",
    "#cutoff = round(0.6*len(data_timeframe))\n",
    "#train_data = data_timeframe.head(cutoff)\n",
    "#inductive_data = data_timeframe.tail(len(data_timeframe)-cutoff)"
   ]
  },
  {
   "cell_type": "code",
   "execution_count": 10,
   "metadata": {},
   "outputs": [],
   "source": [
    "cutoff = round(0.6*len(df))\n",
    "train_data = df.head(cutoff)\n",
    "inductive_data = df.tail(len(df)-cutoff)"
   ]
  },
  {
   "cell_type": "code",
   "execution_count": 11,
   "metadata": {
    "scrolled": true
   },
   "outputs": [
    {
     "name": "stdout",
     "output_type": "stream",
     "text": [
      "The distribution of banned pages for the train data is:\n",
      " 0    403316\n",
      "1       152\n",
      "Name: state_label, dtype: int64\n",
      "The distribution of banned pages for the inductive data is:\n",
      " 0    268765\n",
      "1       214\n",
      "Name: state_label, dtype: int64\n"
     ]
    }
   ],
   "source": [
    "print('The distribution of banned pages for the train data is:\\n', train_data['state_label'].value_counts())\n",
    "print('The distribution of banned pages for the inductive data is:\\n', inductive_data['state_label'].value_counts())"
   ]
  },
  {
   "cell_type": "markdown",
   "metadata": {},
   "source": [
    "### 1.1 Undersampling"
   ]
  },
  {
   "cell_type": "code",
   "execution_count": 12,
   "metadata": {},
   "outputs": [],
   "source": [
    "undersampling_rate = None"
   ]
  },
  {
   "cell_type": "code",
   "execution_count": 13,
   "metadata": {},
   "outputs": [
    {
     "name": "stderr",
     "output_type": "stream",
     "text": [
      "Using TensorFlow backend.\n"
     ]
    }
   ],
   "source": [
    "from imblearn.under_sampling import RandomUnderSampler\n",
    "\n",
    "if not undersampling_rate is None:\n",
    "    print(\"An undersampling rate of \", undersampling_rate, \"is applied.\")\n",
    "    train_data['index'] = train_data.index\n",
    "    undersample = RandomUnderSampler(sampling_strategy=(undersampling_rate))\n",
    "    X, y = undersample.fit_resample(train_data, train_data['state_label'])\n",
    "    train_data = X.set_index(X['index']).drop('index',axis=1)\n",
    "    print('The new distribution for the train set is:\\n', train_data[\"state_label\"].value_counts())"
   ]
  },
  {
   "cell_type": "markdown",
   "metadata": {},
   "source": [
    "## 2. Construct the Graph Network"
   ]
  },
  {
   "cell_type": "markdown",
   "metadata": {},
   "source": [
    "A networkx graph is constructed with edit, user and webpage nodes. Creating a three partite graph. The FI-GRL framework derives embeddings starting from an adjacency matrix that it constructs using the graph's edgelist. "
   ]
  },
  {
   "cell_type": "code",
   "execution_count": 14,
   "metadata": {},
   "outputs": [],
   "source": [
    "nodes = {\"edit\":train_data.index, \"user\":train_data.user_id, \"webpage\":train_data.item_id}\n",
    "edges = [zip(train_data.user_id, train_data.index),zip(train_data.item_id, train_data.index)]\n",
    "g_nx = nx.Graph()\n",
    "for key, values in nodes.items():\n",
    "            g_nx.add_nodes_from(values, ntype=key)\n",
    "for edge in edges:\n",
    "            g_nx.add_edges_from(edge)\n",
    "\n",
    "pd.options.mode.chained_assignment = None\n",
    "\n",
    "train_data['index'] = train_data.index\n",
    "inductive_data['index'] = inductive_data.index\n",
    "inductive_graph_data = pd.concat((train_data,inductive_data))\n",
    "inductive_graph_data = inductive_graph_data.set_index(inductive_graph_data['index']).drop(\"index\",axis = 1)"
   ]
  },
  {
   "cell_type": "markdown",
   "metadata": {},
   "source": [
    "## 3. Train FIGRL"
   ]
  },
  {
   "cell_type": "markdown",
   "metadata": {},
   "source": [
    "We want to keep the original indices after concatenating the train and inductive data, because they represent the transaction node ids. We need to concatenate these dataframes in order to easily construct the new graph."
   ]
  },
  {
   "cell_type": "code",
   "execution_count": 15,
   "metadata": {},
   "outputs": [],
   "source": [
    "pd.options.mode.chained_assignment = None\n",
    "\n",
    "train_data['index'] = train_data.index\n",
    "inductive_data['index'] = inductive_data.index\n",
    "inductive_graph_data = pd.concat((train_data,inductive_data))\n",
    "inductive_graph_data = inductive_graph_data.set_index(inductive_graph_data['index']).drop(\"index\",axis = 1)"
   ]
  },
  {
   "cell_type": "markdown",
   "metadata": {},
   "source": [
    "FI-GRL, a fast inductive graph representation framework is trained using the aforeconstructed graph. This algorithm is implemented in matlab so we make use of matlab.engine to deploy its native implementation. First, we instantiate the FI-GRL class with the intermediate dimension of the matrix between the input graph and the embedding space, in addition to the size of final dimension (embedding space). FI-GRL's train step returns three matrices: U, which represents the embedding space, sigma and v, which are matrices that will be used in the inductive step to generate embeddings for unseen nodes. "
   ]
  },
  {
   "cell_type": "code",
   "execution_count": 16,
   "metadata": {},
   "outputs": [
    {
     "name": "stdout",
     "output_type": "stream",
     "text": [
      "(414207, 414207)\n"
     ]
    }
   ],
   "source": [
    "A = nx.adjacency_matrix(g_nx)\n",
    "print(A.shape)"
   ]
  },
  {
   "cell_type": "code",
   "execution_count": 17,
   "metadata": {},
   "outputs": [
    {
     "name": "stdout",
     "output_type": "stream",
     "text": [
      "73.37214350700378\n"
     ]
    }
   ],
   "source": [
    "t0 = time.time()\n",
    "n,m = A.shape\n",
    "diags = A.sum(axis=1).flatten()\n",
    "D = scipy.sparse.spdiags(diags, [0], n, n, format='csr')\n",
    "#L = D - A\n",
    "with scipy.errstate(divide='ignore'):\n",
    "   diags_sqrt = 1.0/np.lib.scimath.sqrt(diags)\n",
    "diags_sqrt[np.isinf(diags_sqrt)] = 0\n",
    "DH = scipy.sparse.spdiags(diags_sqrt, [0], n, n, format='csr')\n",
    "\n",
    "Normalized_random_walk = DH.dot(A.dot(DH))\n",
    "\n",
    "S = np.random.randn(n, intermediate_dimension) / np.sqrt(intermediate_dimension)\n",
    "\n",
    "#S = np.array(pd.read_csv('S_train_matrix.csv', header=None))\n",
    "\n",
    "C = Normalized_random_walk.dot(S)\n",
    "\n",
    "np.savetxt(\"S_train_matrix.csv\", S, delimiter=\",\")\n",
    "\n",
    "from scipy import sparse\n",
    "sC = sparse.csr_matrix(C)\n",
    "\n",
    "U, sigma, V = scipy.sparse.linalg.svds(sC, k=embedding_size, tol=0,which='LM')\n",
    "V = V.transpose()\n",
    "sigma = np.diag(sigma)\n",
    "\n",
    "t1 = time.time()\n",
    "print(t1-t0)"
   ]
  },
  {
   "cell_type": "markdown",
   "metadata": {},
   "source": [
    "#### Save embeddings"
   ]
  },
  {
   "cell_type": "code",
   "execution_count": 18,
   "metadata": {},
   "outputs": [],
   "source": [
    "figrl_train_emb = pd.DataFrame(U)\n",
    "figrl_train_emb = figrl_train_emb.set_index(figrl_train_emb.index)\n",
    "figrl_train_emb = figrl_train_emb.loc[train_data.index]\n",
    "sigma = np.array(sigma)\n",
    "V = np.array(V)\n",
    "S = np.array(S)"
   ]
  },
  {
   "cell_type": "markdown",
   "metadata": {},
   "source": [
    "## 4. Inductive Step"
   ]
  },
  {
   "cell_type": "code",
   "execution_count": 19,
   "metadata": {},
   "outputs": [],
   "source": [
    "nodes = {\"edit\":inductive_graph_data.index, \"user\":inductive_graph_data.user_id, \"webpage\":inductive_graph_data.item_id}\n",
    "edges = [zip(inductive_graph_data.user_id, inductive_graph_data.index),zip(inductive_graph_data.item_id, inductive_graph_data.index)]\n",
    "graph_full = nx.Graph()\n",
    "\n",
    "for key, values in nodes.items():\n",
    "            graph_full.add_nodes_from(values, ntype=key)\n",
    "for edge in edges:\n",
    "            graph_full.add_edges_from(edge)"
   ]
  },
  {
   "cell_type": "markdown",
   "metadata": {},
   "source": [
    "#### New inductive S"
   ]
  },
  {
   "cell_type": "code",
   "execution_count": 20,
   "metadata": {
    "scrolled": true
   },
   "outputs": [],
   "source": [
    "S = np.random.randn(max(inductive_graph_data.item_id)+1, intermediate_dimension) / np.sqrt(intermediate_dimension)"
   ]
  },
  {
   "cell_type": "code",
   "execution_count": 21,
   "metadata": {},
   "outputs": [],
   "source": [
    "import collections\n",
    "\n",
    "inductive_dict = {}\n",
    "for node in inductive_data.index:\n",
    "    user = inductive_data.loc[node].user_id\n",
    "    item = inductive_data.loc[node].item_id\n",
    "    inductive_dict[node] = [user,item]\n",
    "inductive_dict = collections.OrderedDict(sorted(inductive_dict.items()))"
   ]
  },
  {
   "cell_type": "code",
   "execution_count": 22,
   "metadata": {},
   "outputs": [],
   "source": [
    "degrees = nx.degree(graph_full)\n",
    "train_degrees = dict(degrees)\n",
    "train_degrees = collections.OrderedDict(sorted(train_degrees.items()))"
   ]
  },
  {
   "cell_type": "code",
   "execution_count": 23,
   "metadata": {},
   "outputs": [],
   "source": [
    "from scipy.sparse import coo_matrix\n",
    "def get_vector(inductive_dict, max_id):\n",
    "    print(\"creating sparse vector matrix\")\n",
    "    row  = []\n",
    "    col  = []\n",
    "    data = []\n",
    "    i = 0\n",
    "    for node, v in inductive_dict.items():\n",
    "        for n in v:\n",
    "            if n is not None:\n",
    "                row.append(i)\n",
    "                col.append(n)\n",
    "                if n > max_id:\n",
    "                    max_id = int(n)\n",
    "                #calculate value\n",
    "                inductive_degree = len([x for x in v if x != None])\n",
    "                value = 1/np.sqrt(inductive_degree)\n",
    "                value = value * (1/np.sqrt(train_degrees[n]))\n",
    "                data.append(value)\n",
    "        i+=1\n",
    "    row = np.array(row)\n",
    "    col = np.array(col)\n",
    "    data = np.array(data)\n",
    "    return coo_matrix((data, (row, col)), shape=(len(inductive_dict), max_id+1))"
   ]
  },
  {
   "cell_type": "code",
   "execution_count": 24,
   "metadata": {},
   "outputs": [
    {
     "name": "stdout",
     "output_type": "stream",
     "text": [
      "creating sparse vector matrix\n",
      "2.700005292892456\n"
     ]
    }
   ],
   "source": [
    "t0 = time.time()\n",
    "v = get_vector(inductive_dict, max(inductive_graph_data.item_id))\n",
    "t1 = time.time()\n",
    "print(t1-t0)"
   ]
  },
  {
   "cell_type": "code",
   "execution_count": 25,
   "metadata": {},
   "outputs": [
    {
     "name": "stdout",
     "output_type": "stream",
     "text": [
      "0.5838115215301514\n"
     ]
    }
   ],
   "source": [
    "import scipy.sparse\n",
    "\n",
    "t0 = time.time()\n",
    "inductive_degrees = []\n",
    "\n",
    "#altijd 2 (onderstaand)\n",
    "for l in inductive_dict.values():\n",
    "    x = 0\n",
    "    for i in l:\n",
    "        if i is not None:\n",
    "            x+=1\n",
    "    inductive_degrees.append(x)\n",
    "    \n",
    "def sqrt_d_inv(inductive_degrees):\n",
    "        sqrt_d_inv = np.array([1/np.sqrt(degree)  if degree > 0 else 0 for degree in inductive_degrees])\n",
    "        return scipy.sparse.spdiags(sqrt_d_inv,0, sqrt_d_inv.size, sqrt_d_inv.size)\n",
    "sqrt_d_inv = sqrt_d_inv(inductive_degrees)\n",
    "t1 = time.time()\n",
    "print(t1-t0)"
   ]
  },
  {
   "cell_type": "code",
   "execution_count": 26,
   "metadata": {
    "scrolled": true
   },
   "outputs": [
    {
     "name": "stdout",
     "output_type": "stream",
     "text": [
      "1.5228996276855469\n"
     ]
    }
   ],
   "source": [
    "t0 = time.time()\n",
    "p = v.dot(S)\n",
    "U =(p.dot(V)).dot(np.linalg.inv(sigma))\n",
    "U = sqrt_d_inv.dot(U)\n",
    "t1 = time.time()\n",
    "\n",
    "print(t1-t0)"
   ]
  },
  {
   "cell_type": "code",
   "execution_count": 27,
   "metadata": {},
   "outputs": [],
   "source": [
    "figrl_inductive_emb = pd.DataFrame(U, index=inductive_data.index)"
   ]
  },
  {
   "cell_type": "markdown",
   "metadata": {},
   "source": [
    "## 5. Evaluation"
   ]
  },
  {
   "cell_type": "code",
   "execution_count": 28,
   "metadata": {},
   "outputs": [],
   "source": [
    "from xgboost import XGBClassifier\n",
    "classifier = XGBClassifier(n_estimators=100)"
   ]
  },
  {
   "cell_type": "code",
   "execution_count": 29,
   "metadata": {},
   "outputs": [],
   "source": [
    "train_labels = train_data['state_label']\n",
    "figrl_train_emb = pd.merge(figrl_train_emb, train_data.loc[figrl_train_emb.index].drop('state_label', axis=1), left_index=True, right_index=True)\n",
    "figrl_inductive_emb = pd.merge(figrl_inductive_emb, inductive_data.loc[figrl_inductive_emb.index].drop('state_label', axis=1), left_index=True, right_index=True)\n",
    "\n",
    "baseline_train = train_data.drop('state_label', axis=1)\n",
    "baseline_inductive = inductive_data.drop('state_label', axis=1)\n",
    "\n",
    "classifier.fit(baseline_train, train_labels)\n",
    "baseline_predictions = classifier.predict_proba(baseline_inductive)\n",
    "    \n",
    "classifier.fit(figrl_train_emb, train_labels)\n",
    "predictions = classifier.predict_proba(figrl_inductive_emb)\n"
   ]
  },
  {
   "cell_type": "code",
   "execution_count": 30,
   "metadata": {},
   "outputs": [],
   "source": [
    "import scikitplot\n",
    "from sklearn.metrics import precision_recall_curve\n",
    "from sklearn.metrics import average_precision_score\n",
    "from matplotlib import pyplot\n",
    "\n",
    "def pr_curve(probabilities, labels, name):\n",
    "\n",
    "        \"\"\"\n",
    "        This function plots the precision recall curve for the used classification model and a majority classifier.\n",
    "        \n",
    "        \"\"\"\n",
    "        probs = probabilities[:, 1]\n",
    "        precision, recall, _ = precision_recall_curve(labels, probs)\n",
    "        pyplot.plot(recall, precision, label=name)\n",
    "        # axis labels\n",
    "        pyplot.xlabel('Recall')\n",
    "        pyplot.ylabel('Precision')\n",
    "        # show the legend\n",
    "        pyplot.legend()\n",
    "        \n",
    "        print('Average precision-recall score for ', name, ' configuration XGBoost: {0:0.10f}'.format(average_precision_score(labels, probs)))"
   ]
  },
  {
   "cell_type": "code",
   "execution_count": 31,
   "metadata": {},
   "outputs": [
    {
     "name": "stdout",
     "output_type": "stream",
     "text": [
      "Average precision-recall score for  FI-GRL  configuration XGBoost: 0.0011209992\n",
      "Average precision-recall score for  Baseline  configuration XGBoost: 0.0012937315\n"
     ]
    },
    {
     "name": "stderr",
     "output_type": "stream",
     "text": [
      "C:\\ProgramData\\Anaconda3\\lib\\site-packages\\IPython\\core\\events.py:88: UserWarning: Creating legend with loc=\"best\" can be slow with large amounts of data.\n",
      "  func(*args, **kwargs)\n",
      "C:\\ProgramData\\Anaconda3\\lib\\site-packages\\IPython\\core\\pylabtools.py:128: UserWarning: Creating legend with loc=\"best\" can be slow with large amounts of data.\n",
      "  fig.canvas.print_figure(bytes_io, **kw)\n"
     ]
    },
    {
     "data": {
      "image/png": "[encoded data removed]",
      "text/plain": [
       "<Figure size 432x288 with 1 Axes>"
      ]
     },
     "metadata": {
      "needs_background": "light"
     },
     "output_type": "display_data"
    }
   ],
   "source": [
    "inductive_labels = df.loc[figrl_inductive_emb.index]['state_label']\n",
    "\n",
    "pr_curve(predictions, inductive_labels, \"FI-GRL\")\n",
    "\n",
    "pr_curve(baseline_predictions, inductive_labels, \"Baseline\")"
   ]
  }
 ],
 "metadata": {
  "kernelspec": {
   "display_name": "Python 3",
   "language": "python",
   "name": "python3"
  },
  "language_info": {
   "codemirror_mode": {
    "name": "ipython",
    "version": 3
   },
   "file_extension": ".py",
   "mimetype": "text/x-python",
   "name": "python",
   "nbconvert_exporter": "python",
   "pygments_lexer": "ipython3",
   "version": "3.7.4"
  }
 },
 "nbformat": 4,
 "nbformat_minor": 2
}
