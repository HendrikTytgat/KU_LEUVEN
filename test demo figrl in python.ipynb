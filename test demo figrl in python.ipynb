{
 "cells": [
  {
   "cell_type": "markdown",
   "metadata": {},
   "source": [
    "## FIGRL"
   ]
  },
  {
   "cell_type": "code",
   "execution_count": 3,
   "metadata": {},
   "outputs": [],
   "source": [
    "# ## FI-GRL (Python)\n",
    "import networkx as nx\n",
    "import pandas as pd \n",
    "import numpy as np\n",
    "import scipy\n",
    "from scipy.sparse import csr\n",
    "from components.GraphConstruction import GraphConstruction\n",
    "\n",
    "df = pd.read_csv(\"demo_ccf.csv\")\n",
    "df = df.set_index(df.index+1)"
   ]
  },
  {
   "cell_type": "markdown",
   "metadata": {},
   "source": [
    "#### Train-Inductive Split"
   ]
  },
  {
   "cell_type": "code",
   "execution_count": 4,
   "metadata": {},
   "outputs": [],
   "source": [
    "cutoff = round(0.6*len(df)) # first 60% of transactions are used for training, last 40% to test inductive capability\n",
    "train_data = df.head(cutoff)\n",
    "inductive_data = df.tail(len(df)-cutoff)"
   ]
  },
  {
   "cell_type": "markdown",
   "metadata": {},
   "source": [
    "#### Graph Construction"
   ]
  },
  {
   "cell_type": "code",
   "execution_count": 5,
   "metadata": {},
   "outputs": [],
   "source": [
    "nodes = {\"transaction\":train_data.index,\"client\":train_data.client_node, \"merchant\":train_data.merchant_node}\n",
    "edges = [zip(train_data.client_node, train_data.index),zip(train_data.merchant_node, train_data.index)]"
   ]
  },
  {
   "cell_type": "code",
   "execution_count": 6,
   "metadata": {},
   "outputs": [],
   "source": [
    "g_nx = nx.Graph()\n",
    "for key, values in nodes.items():\n",
    "            g_nx.add_nodes_from(values, ntype=key)\n",
    "for edge in edges:\n",
    "            g_nx.add_edges_from(edge)"
   ]
  },
  {
   "cell_type": "code",
   "execution_count": 7,
   "metadata": {},
   "outputs": [],
   "source": [
    "pd.options.mode.chained_assignment = None\n",
    "\n",
    "train_data['index'] = train_data.index\n",
    "inductive_data['index'] = inductive_data.index\n",
    "inductive_graph_data = pd.concat((train_data,inductive_data))\n",
    "inductive_graph_data = inductive_graph_data.set_index(inductive_graph_data['index']).drop(\"index\",axis = 1)"
   ]
  },
  {
   "cell_type": "markdown",
   "metadata": {},
   "source": [
    "## Train"
   ]
  },
  {
   "cell_type": "code",
   "execution_count": 8,
   "metadata": {},
   "outputs": [],
   "source": [
    "adjacency_order = []\n",
    "adjacency_order.append(nodes[\"transaction\"])\n",
    "adjacency_order.append(nodes[\"client\"])\n",
    "adjacency_order.append(nodes[\"merchant\"])"
   ]
  },
  {
   "cell_type": "code",
   "execution_count": 9,
   "metadata": {},
   "outputs": [
    {
     "name": "stdout",
     "output_type": "stream",
     "text": [
      "[RangeIndex(start=1, stop=647, step=1), 1      58744\n",
      "2      62913\n",
      "3      72066\n",
      "4      71679\n",
      "5      71749\n",
      "       ...  \n",
      "642    70831\n",
      "643    80369\n",
      "644    67764\n",
      "645    66776\n",
      "646    55133\n",
      "Name: client_node, Length: 646, dtype: int64, 1       91818\n",
      "2       91951\n",
      "3      100382\n",
      "4       96509\n",
      "5       91760\n",
      "        ...  \n",
      "642     92108\n",
      "643     92175\n",
      "644     91780\n",
      "645     91760\n",
      "646     93148\n",
      "Name: merchant_node, Length: 646, dtype: int64]\n"
     ]
    }
   ],
   "source": [
    "adjacency_order = [train_data.index,train_data.client_node,train_data.merchant_node]\n",
    "print(adjacency_order)"
   ]
  },
  {
   "cell_type": "code",
   "execution_count": 10,
   "metadata": {},
   "outputs": [
    {
     "name": "stdout",
     "output_type": "stream",
     "text": [
      "(1525, 1525)\n"
     ]
    }
   ],
   "source": [
    "A = nx.adjacency_matrix(g_nx)\n",
    "print(A.shape)\n",
    "dim = 41"
   ]
  },
  {
   "cell_type": "code",
   "execution_count": 11,
   "metadata": {},
   "outputs": [
    {
     "name": "stdout",
     "output_type": "stream",
     "text": [
      "  (0, 646)\t1\n",
      "  (0, 1179)\t1\n",
      "  (1, 647)\t1\n",
      "  (1, 1180)\t1\n",
      "  (2, 648)\t1\n",
      "  (2, 1181)\t1\n",
      "  (3, 649)\t1\n",
      "  (3, 1182)\t1\n",
      "  (4, 650)\t1\n",
      "  (4, 1183)\t1\n",
      "  (5, 651)\t1\n",
      "  (5, 1184)\t1\n",
      "  (6, 652)\t1\n",
      "  (6, 1185)\t1\n",
      "  (7, 653)\t1\n",
      "  (7, 1186)\t1\n",
      "  (8, 654)\t1\n",
      "  (8, 1187)\t1\n",
      "  (9, 655)\t1\n",
      "  (9, 1188)\t1\n",
      "  (10, 656)\t1\n",
      "  (10, 1189)\t1\n",
      "  (11, 657)\t1\n",
      "  (11, 1190)\t1\n",
      "  (12, 658)\t1\n",
      "  :\t:\n",
      "  (1501, 601)\t1\n",
      "  (1502, 602)\t1\n",
      "  (1503, 603)\t1\n",
      "  (1504, 605)\t1\n",
      "  (1505, 606)\t1\n",
      "  (1506, 607)\t1\n",
      "  (1507, 608)\t1\n",
      "  (1508, 609)\t1\n",
      "  (1509, 610)\t1\n",
      "  (1510, 613)\t1\n",
      "  (1511, 615)\t1\n",
      "  (1512, 616)\t1\n",
      "  (1513, 617)\t1\n",
      "  (1514, 619)\t1\n",
      "  (1515, 621)\t1\n",
      "  (1516, 624)\t1\n",
      "  (1517, 625)\t1\n",
      "  (1518, 626)\t1\n",
      "  (1519, 629)\t1\n",
      "  (1519, 641)\t1\n",
      "  (1520, 630)\t1\n",
      "  (1521, 634)\t1\n",
      "  (1522, 635)\t1\n",
      "  (1523, 636)\t1\n",
      "  (1524, 645)\t1\n"
     ]
    }
   ],
   "source": [
    "print(A)"
   ]
  },
  {
   "cell_type": "code",
   "execution_count": 12,
   "metadata": {
    "scrolled": false
   },
   "outputs": [
    {
     "name": "stdout",
     "output_type": "stream",
     "text": [
      "(1525, 41)\n",
      "(1525, 41)\n",
      "(1525, 40)\n",
      "(40,)\n",
      "(40, 41)\n",
      "(1525, 1525)\n"
     ]
    }
   ],
   "source": [
    "n,m = A.shape\n",
    "diags = A.sum(axis=1).flatten()\n",
    "D = scipy.sparse.spdiags(diags, [0], m, n, format='csr')\n",
    "#L = D - A\n",
    "with scipy.errstate(divide='ignore'):\n",
    "   diags_sqrt = 1.0/np.lib.scimath.sqrt(diags)\n",
    "diags_sqrt[np.isinf(diags_sqrt)] = 0\n",
    "DH = scipy.sparse.spdiags(diags_sqrt, [0], m, n, format='csr')\n",
    "\n",
    "Normalized_random_walk = DH.dot(A.dot(DH))\n",
    "\n",
    "S = np.random.randn(n, dim) / np.sqrt(dim)\n",
    "\n",
    "C = Normalized_random_walk.dot(S)\n",
    "\n",
    "\n",
    "\n",
    "#np.linalg.svd(C)\n",
    "\n",
    "#scipy.linalg.svd(C, lapack_driver='gesvd')\n",
    "\n",
    "from scipy import sparse\n",
    "sC = sparse.csr_matrix(C)\n",
    "\n",
    "\n",
    "\n",
    "#np.linalg.svd(C)\n",
    "\n",
    "U, sigma, V = scipy.sparse.linalg.svds(sC, k=dim-1, tol=0,which='LM')\n",
    "print(sC.shape)\n",
    "print(S.shape)\n",
    "print(U.shape)\n",
    "print(sigma.shape)\n",
    "print(V.shape)\n",
    "print(A.shape)"
   ]
  },
  {
   "cell_type": "code",
   "execution_count": 13,
   "metadata": {},
   "outputs": [
    {
     "data": {
      "text/plain": [
       "(40, 40)"
      ]
     },
     "execution_count": 13,
     "metadata": {},
     "output_type": "execute_result"
    }
   ],
   "source": [
    "sigma = np.diag(sigma)\n",
    "sigma.shape"
   ]
  },
  {
   "cell_type": "code",
   "execution_count": 14,
   "metadata": {
    "scrolled": true
   },
   "outputs": [
    {
     "data": {
      "text/plain": [
       "(40, 40)"
      ]
     },
     "execution_count": 14,
     "metadata": {},
     "output_type": "execute_result"
    }
   ],
   "source": [
    "V = V[:,:-1]\n",
    "V.shape"
   ]
  },
  {
   "cell_type": "markdown",
   "metadata": {},
   "source": [
    "#### Save embeddings"
   ]
  },
  {
   "cell_type": "code",
   "execution_count": 15,
   "metadata": {},
   "outputs": [],
   "source": [
    "figrl_train_emb = pd.DataFrame(U)\n",
    "figrl_train_emb = figrl_train_emb.set_index(figrl_train_emb.index+1)\n",
    "figrl_train_emb = figrl_train_emb.loc[train_data.index]"
   ]
  },
  {
   "cell_type": "code",
   "execution_count": 16,
   "metadata": {
    "scrolled": true
   },
   "outputs": [],
   "source": [
    "import numpy as np\n",
    "sigma = np.array(sigma)\n",
    "V = np.array(V)\n",
    "S = np.array(S)"
   ]
  },
  {
   "cell_type": "markdown",
   "metadata": {},
   "source": [
    "## Inductive"
   ]
  },
  {
   "cell_type": "code",
   "execution_count": 17,
   "metadata": {
    "scrolled": true
   },
   "outputs": [
    {
     "name": "stdout",
     "output_type": "stream",
     "text": [
      "(100473, 41)\n",
      "(100473, 40)\n"
     ]
    }
   ],
   "source": [
    "nodes = {\"transaction\":inductive_graph_data.index, \"client\":inductive_graph_data.client_node, \"merchant\":inductive_graph_data.merchant_node}\n",
    "edges = [zip(inductive_graph_data.client_node, inductive_graph_data.index),zip(inductive_graph_data.merchant_node, inductive_graph_data.index)]\n",
    "\n",
    "graph = nx.Graph()\n",
    "for key, values in nodes.items():\n",
    "            graph.add_nodes_from(values, ntype=key)\n",
    "for edge in edges:\n",
    "            graph.add_edges_from(edge)\n",
    "        \n",
    "A = nx.adjacency_matrix(graph)\n",
    "\n",
    "n,m = A.shape\n",
    "\n",
    "S = np.random.randn(max(inductive_graph_data.merchant_node), dim) / np.sqrt(dim)\n",
    "print(S.shape)\n",
    "S = S[:,:-1]\n",
    "print(S.shape)"
   ]
  },
  {
   "cell_type": "code",
   "execution_count": 18,
   "metadata": {},
   "outputs": [],
   "source": [
    "import collections\n",
    "\n",
    "inductive_dict = {}\n",
    "for node in inductive_data.index:\n",
    "    client = inductive_data.loc[node].client_node\n",
    "    merchant = inductive_data.loc[node].merchant_node\n",
    "    inductive_dict[node] = [client,merchant]\n",
    "inductive_dict = collections.OrderedDict(sorted(inductive_dict.items()))"
   ]
  },
  {
   "cell_type": "code",
   "execution_count": 19,
   "metadata": {},
   "outputs": [],
   "source": [
    "import networkx as nx\n",
    "degrees = nx.degree(graph)\n",
    "train_degrees = dict(degrees)\n",
    "train_degrees = collections.OrderedDict(sorted(train_degrees.items()))\n"
   ]
  },
  {
   "cell_type": "code",
   "execution_count": 20,
   "metadata": {},
   "outputs": [],
   "source": [
    "from scipy.sparse import coo_matrix\n",
    "def get_vector(inductive_dict, max_id):\n",
    "    print(\"creating sparse vector matrix\")\n",
    "    row  = []\n",
    "    col  = []\n",
    "    data = []\n",
    "    i = 0\n",
    "    for node, v in inductive_dict.items():\n",
    "        for n in v:\n",
    "            if n is not None:\n",
    "                row.append(i)\n",
    "                col.append(n-1)\n",
    "                \n",
    "                #calculate value\n",
    "                inductive_degree = len([x for x in v if x != None])\n",
    "                value = 1/np.sqrt(inductive_degree)\n",
    "                value = value * (1/np.sqrt(train_degrees[n]))\n",
    "                data.append(value)\n",
    "                \n",
    "                #update the degrees\n",
    "                #train_degrees[n] += 1\n",
    "                \n",
    "        i+=1        \n",
    "    row = np.array(row)\n",
    "    col = np.array(col)\n",
    "    data = np.array(data)\n",
    "    return coo_matrix((data, (row, col)), shape=(len(inductive_dict), max_id))\n"
   ]
  },
  {
   "cell_type": "code",
   "execution_count": 21,
   "metadata": {},
   "outputs": [
    {
     "name": "stdout",
     "output_type": "stream",
     "text": [
      "creating sparse vector matrix\n",
      "0.0050048828125\n"
     ]
    }
   ],
   "source": [
    "import time\n",
    "t0 = time.time()\n",
    "v = get_vector(inductive_dict, max(inductive_graph_data.merchant_node))\n",
    "t1 = time.time()\n",
    "print(t1-t0)"
   ]
  },
  {
   "cell_type": "code",
   "execution_count": 22,
   "metadata": {},
   "outputs": [
    {
     "name": "stdout",
     "output_type": "stream",
     "text": [
      "0.002002239227294922\n"
     ]
    }
   ],
   "source": [
    "import scipy as sp\n",
    "import scipy.sparse\n",
    "\n",
    "t0 = time.time()\n",
    "inductive_degrees = []\n",
    "for l in inductive_dict.values():\n",
    "    x = 0\n",
    "    for i in l:\n",
    "        if i is not None:\n",
    "            x+=1                     \n",
    "    inductive_degrees.append(x)\n",
    "    \n",
    "def sqrt_d_inv(inductive_degrees):\n",
    "        sqrt_d_inv = np.array([1/np.sqrt(degree)  if degree > 0 else 0 for degree in inductive_degrees])\n",
    "        return sp.sparse.spdiags(sqrt_d_inv,0, sqrt_d_inv.size, sqrt_d_inv.size)\n",
    "sqrt_d_inv = sqrt_d_inv(inductive_degrees)\n",
    "t1 = time.time()\n",
    "print(t1-t0)"
   ]
  },
  {
   "cell_type": "code",
   "execution_count": 23,
   "metadata": {},
   "outputs": [
    {
     "data": {
      "text/plain": [
       "(430, 100473)"
      ]
     },
     "execution_count": 23,
     "metadata": {},
     "output_type": "execute_result"
    }
   ],
   "source": [
    "v.shape"
   ]
  },
  {
   "cell_type": "code",
   "execution_count": 24,
   "metadata": {},
   "outputs": [
    {
     "data": {
      "text/plain": [
       "(100473, 40)"
      ]
     },
     "execution_count": 24,
     "metadata": {},
     "output_type": "execute_result"
    }
   ],
   "source": [
    "S.shape"
   ]
  },
  {
   "cell_type": "code",
   "execution_count": 25,
   "metadata": {},
   "outputs": [
    {
     "name": "stdout",
     "output_type": "stream",
     "text": [
      "0.01701664924621582\n"
     ]
    }
   ],
   "source": [
    "t0 = time.time()\n",
    "p = v.dot(S)\n",
    "U =(p.dot(V)).dot(np.linalg.inv(sigma))\n",
    "U = sqrt_d_inv.dot(U)\n",
    "t1 = time.time()\n",
    "\n",
    "print(t1-t0)\n"
   ]
  },
  {
   "cell_type": "code",
   "execution_count": 26,
   "metadata": {},
   "outputs": [],
   "source": [
    "figrl_inductive_emb = pd.DataFrame(U, index=inductive_data.index)"
   ]
  },
  {
   "cell_type": "markdown",
   "metadata": {},
   "source": [
    "## Evaluation"
   ]
  },
  {
   "cell_type": "code",
   "execution_count": 27,
   "metadata": {},
   "outputs": [],
   "source": [
    "from xgboost import XGBClassifier\n",
    "classifier = XGBClassifier(n_estimators=100)"
   ]
  },
  {
   "cell_type": "code",
   "execution_count": 28,
   "metadata": {},
   "outputs": [],
   "source": [
    "train_labels = train_data['fraud_label']\n",
    "add_additional_data = True\n",
    "if add_additional_data is True:\n",
    "    train_emb = pd.merge(figrl_train_emb, train_data.loc[figrl_train_emb.index].drop('fraud_label', axis=1), left_index=True, right_index=True)\n",
    "    inductive_emb = pd.merge(figrl_inductive_emb, inductive_data.loc[figrl_inductive_emb.index].drop('fraud_label', axis=1), left_index=True, right_index=True)\n",
    "\n",
    "    baseline_train = train_data.drop('fraud_label', axis=1)\n",
    "    baseline_inductive = inductive_data.drop('fraud_label', axis=1)\n",
    "\n",
    "    classifier.fit(baseline_train, train_labels)\n",
    "    baseline_predictions = classifier.predict_proba(baseline_inductive)\n",
    "    \n",
    "classifier.fit(train_emb, train_labels)\n",
    "predictions = classifier.predict_proba(inductive_emb)\n"
   ]
  },
  {
   "cell_type": "code",
   "execution_count": 29,
   "metadata": {},
   "outputs": [
    {
     "name": "stdout",
     "output_type": "stream",
     "text": [
      "Average precision-recall score for  FI-GRL+features  configuration XGBoost: 0.8576355995\n",
      "Average precision-recall score for  Baseline  configuration XGBoost: 0.8197498524\n"
     ]
    },
    {
     "data": {
      "image/png": "[encoded data removed]",
      "text/plain": [
       "<Figure size 432x288 with 1 Axes>"
      ]
     },
     "metadata": {
      "needs_background": "light"
     },
     "output_type": "display_data"
    }
   ],
   "source": [
    "from components.Evaluation import Evaluation\n",
    "inductive_labels = df.loc[inductive_emb.index]['fraud_label']\n",
    "\n",
    "figrl_evaluation = Evaluation(predictions, inductive_labels, \"FI-GRL+features\") \n",
    "figrl_evaluation.pr_curve()\n",
    "\n",
    "if add_additional_data is True:\n",
    "    baseline_evaluation = Evaluation(baseline_predictions, inductive_labels, \"Baseline\")\n",
    "    baseline_evaluation.pr_curve()"
   ]
  }
 ],
 "metadata": {
  "kernelspec": {
   "display_name": "newenv",
   "language": "python",
   "name": "newenv"
  },
  "language_info": {
   "codemirror_mode": {
    "name": "ipython",
    "version": 3
   },
   "file_extension": ".py",
   "mimetype": "text/x-python",
   "name": "python",
   "nbconvert_exporter": "python",
   "pygments_lexer": "ipython3",
   "version": "3.7.0"
  }
 },
 "nbformat": 4,
 "nbformat_minor": 4
}
