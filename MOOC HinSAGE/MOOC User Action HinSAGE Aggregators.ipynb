{
 "cells": [
  {
   "cell_type": "markdown",
   "metadata": {},
   "source": [
    "# MOOC User Action Dataset Pipeline: FIGRL test"
   ]
  },
  {
   "cell_type": "markdown",
   "metadata": {},
   "source": [
    "The dataset used in this experiment can be downloaded through te following link:\n",
    "http://snap.stanford.edu/data/act-mooc.html"
   ]
  },
  {
   "cell_type": "code",
   "execution_count": 1,
   "metadata": {},
   "outputs": [],
   "source": [
    "# Global parameters:\n",
    "embedding_size = 64\n",
    "add_additional_data = True"
   ]
  },
  {
   "cell_type": "markdown",
   "metadata": {},
   "source": [
    "## 1. Loading the MOOC Dataset"
   ]
  },
  {
   "cell_type": "code",
   "execution_count": 2,
   "metadata": {},
   "outputs": [],
   "source": [
    "import warnings\n",
    "warnings.simplefilter(action='ignore', category=FutureWarning)\n",
    "import pandas as pd \n",
    "import numpy as np\n",
    "import time\n",
    "import networkx as nx\n",
    "import stellargraph as sg\n",
    "import scipy\n",
    "from scipy.sparse import csr\n",
    "import scipy.sparse"
   ]
  },
  {
   "cell_type": "markdown",
   "metadata": {},
   "source": [
    "The action file has following attributes:\n",
    "\n",
    "ACTIONID: a unique id for each action.\n",
    "\n",
    "USERID: a unique id for each user.\n",
    "\n",
    "TARGETID: a unique id for each target activity.\n",
    "\n",
    "TIMESTAMP: timestamp for the action in seconds from the beginning."
   ]
  },
  {
   "cell_type": "code",
   "execution_count": 3,
   "metadata": {},
   "outputs": [
    {
     "data": {
      "text/plain": [
       "True"
      ]
     },
     "execution_count": 3,
     "metadata": {},
     "output_type": "execute_result"
    }
   ],
   "source": [
    "df_action = pd.read_csv(\"C:\\\\Users\\\\hendr\\\\OneDrive\\\\Documents\\\\KU Leuven Job\\\\FIGRL_Uit_Matlab\\\\datasets\\\\mooc_actions.tsv\", sep='\\t')\n",
    "\n",
    "df_action = df_action.set_index('ACTIONID')\n",
    "pd.Series(df_action.index).is_unique"
   ]
  },
  {
   "cell_type": "markdown",
   "metadata": {},
   "source": [
    "The feature file has following attributes:\n",
    "\n",
    "ACTIONID: a unique id for each action.\n",
    "\n",
    "FEATUREx: a feature value associated with the action. Total four in count, making it a 4-dimensional feature vector"
   ]
  },
  {
   "cell_type": "code",
   "execution_count": 4,
   "metadata": {},
   "outputs": [
    {
     "data": {
      "text/plain": [
       "True"
      ]
     },
     "execution_count": 4,
     "metadata": {},
     "output_type": "execute_result"
    }
   ],
   "source": [
    "df_feature = pd.read_csv(\"C:\\\\Users\\\\hendr\\\\OneDrive\\\\Documents\\\\KU Leuven Job\\\\FIGRL_Uit_Matlab\\\\datasets\\\\mooc_action_features.tsv\", sep='\\t')\n",
    "\n",
    "df_feature = df_feature.set_index('ACTIONID')\n",
    "pd.Series(df_feature.index).is_unique"
   ]
  },
  {
   "cell_type": "markdown",
   "metadata": {},
   "source": [
    "The lable file has following attributes:\n",
    "    \n",
    "ACTIONID: a unique id for each action.\n",
    "    \n",
    "LABEL: a binary label indicating whether the student drops-out after the action. The value is 1 for drop-out actions, 0 otherwise."
   ]
  },
  {
   "cell_type": "code",
   "execution_count": 5,
   "metadata": {
    "scrolled": true
   },
   "outputs": [
    {
     "data": {
      "text/plain": [
       "True"
      ]
     },
     "execution_count": 5,
     "metadata": {},
     "output_type": "execute_result"
    }
   ],
   "source": [
    "df_labels = pd.read_csv(\"C:\\\\Users\\\\hendr\\\\OneDrive\\\\Documents\\\\KU Leuven Job\\\\FIGRL_Uit_Matlab\\\\datasets\\\\mooc_action_labels.tsv\", sep='\\t')\n",
    "df_labels = df_labels.drop(columns='ACTIONID')\n",
    "df_labels.index.name = 'ACTIONID'\n",
    "\n",
    "pd.Series(df_labels.index).is_unique"
   ]
  },
  {
   "cell_type": "code",
   "execution_count": 6,
   "metadata": {},
   "outputs": [
    {
     "data": {
      "text/plain": [
       "True"
      ]
     },
     "execution_count": 6,
     "metadata": {},
     "output_type": "execute_result"
    }
   ],
   "source": [
    "df = pd.merge(df_action, df_feature.loc[df_action.index], left_index=True, right_index=True)\n",
    "df = pd.merge(df, df_labels.loc[df.index], left_index=True, right_index=True)\n",
    "pd.Series(df.index).is_unique"
   ]
  },
  {
   "cell_type": "code",
   "execution_count": 7,
   "metadata": {},
   "outputs": [
    {
     "name": "stdout",
     "output_type": "stream",
     "text": [
      "418796\n"
     ]
    }
   ],
   "source": [
    "df['USERID']+=max(df.index)+1\n",
    "df['TARGETID']+=max(df.USERID)+1\n",
    "print(min(df.TARGETID))"
   ]
  },
  {
   "cell_type": "code",
   "execution_count": 8,
   "metadata": {},
   "outputs": [],
   "source": [
    "cutoff = round(0.6*len(df))\n",
    "train_data = df.head(cutoff)\n",
    "inductive_data = df.tail(len(df)-cutoff)"
   ]
  },
  {
   "cell_type": "code",
   "execution_count": 9,
   "metadata": {
    "scrolled": true
   },
   "outputs": [
    {
     "name": "stdout",
     "output_type": "stream",
     "text": [
      "The distribution of banned pages for the train data is:\n",
      " 0    244461\n",
      "1      2588\n",
      "Name: LABEL, dtype: int64\n",
      "The distribution of banned pages for the inductive data is:\n",
      " 0    163222\n",
      "1      1478\n",
      "Name: LABEL, dtype: int64\n"
     ]
    }
   ],
   "source": [
    "print('The distribution of banned pages for the train data is:\\n', train_data['LABEL'].value_counts())\n",
    "print('The distribution of banned pages for the inductive data is:\\n', inductive_data['LABEL'].value_counts())"
   ]
  },
  {
   "cell_type": "markdown",
   "metadata": {},
   "source": [
    "## 2. Construct the Graph Network"
   ]
  },
  {
   "cell_type": "markdown",
   "metadata": {},
   "source": [
    "A networkx graph is constructed with edit, user and webpage nodes. Creating a three partite graph. The FI-GRL framework derives embeddings starting from an adjacency matrix that it constructs using the graph's edgelist. "
   ]
  },
  {
   "cell_type": "code",
   "execution_count": 10,
   "metadata": {},
   "outputs": [
    {
     "name": "stdout",
     "output_type": "stream",
     "text": [
      "StellarGraph: Undirected multigraph\n",
      " Nodes: 253389, Edges: 494098\n",
      "\n",
      " Node types:\n",
      "  action: [247049]\n",
      "    Features: float32 vector, length 4\n",
      "    Edge types: action-default->TARGETID, action-default->USERID\n",
      "  USERID: [6262]\n",
      "    Features: float32 vector, length 1\n",
      "    Edge types: USERID-default->action\n",
      "  TARGETID: [78]\n",
      "    Features: float32 vector, length 1\n",
      "    Edge types: TARGETID-default->action\n",
      "\n",
      " Edge types:\n",
      "    USERID-default->action: [247049]\n",
      "        Weights: all 1 (default)\n",
      "        Features: none\n",
      "    TARGETID-default->action: [247049]\n",
      "        Weights: all 1 (default)\n",
      "        Features: none\n"
     ]
    }
   ],
   "source": [
    "from components.GraphConstruction import GraphConstruction\n",
    "\n",
    "action_data = train_data.drop(\"USERID\", axis=1).drop(\"TARGETID\", axis=1).drop(\"LABEL\", axis=1).drop(\"TIMESTAMP\", axis=1)\n",
    "USERID_data = pd.DataFrame([1]*len(train_data.USERID.unique())).set_index(train_data.USERID.unique())\n",
    "TARGETID_data = pd.DataFrame([1]*len(train_data.TARGETID.unique())).set_index(train_data.TARGETID.unique())\n",
    "\n",
    "nodes = {\"USERID\":train_data.USERID, \"TARGETID\":train_data.TARGETID, \"action\":train_data.index}\n",
    "edges = [zip(train_data.USERID, train_data.index),zip(train_data.TARGETID, train_data.index)]\n",
    "features = {\"action\": action_data, 'USERID': USERID_data, 'TARGETID': TARGETID_data}\n",
    "\n",
    "graph = GraphConstruction(nodes, edges, features)\n",
    "S = graph.get_stellargraph()\n",
    "print(S.info())"
   ]
  },
  {
   "cell_type": "markdown",
   "metadata": {},
   "source": [
    "## 3. Train HinSAGE"
   ]
  },
  {
   "cell_type": "markdown",
   "metadata": {},
   "source": [
    "HinSAGE, a heterogeneous implementation of the GraphSAGE framework is trained with user specified hyperparameters."
   ]
  },
  {
   "cell_type": "code",
   "execution_count": 11,
   "metadata": {},
   "outputs": [
    {
     "name": "stdout",
     "output_type": "stream",
     "text": [
      "Epoch 1/10\n",
      "39528/39528 [==============================] - 119s 3ms/step - loss: 0.0537 - val_loss: 0.0439\n",
      "Epoch 2/10\n",
      "39528/39528 [==============================] - 119s 3ms/step - loss: 0.0512 - val_loss: 0.0439\n",
      "Epoch 3/10\n",
      "39528/39528 [==============================] - 118s 3ms/step - loss: 0.0506 - val_loss: 0.0438\n",
      "Epoch 4/10\n",
      "39528/39528 [==============================] - 118s 3ms/step - loss: 0.0506 - val_loss: 0.0432\n",
      "Epoch 5/10\n",
      "39528/39528 [==============================] - 122s 3ms/step - loss: 0.0505 - val_loss: 0.0445\n",
      "Epoch 6/10\n",
      "39528/39528 [==============================] - 119s 3ms/step - loss: 0.0503 - val_loss: 0.0434\n",
      "Epoch 7/10\n",
      "39528/39528 [==============================] - 118s 3ms/step - loss: 0.0503 - val_loss: 0.0453\n",
      "Epoch 8/10\n",
      "39528/39528 [==============================] - 122s 3ms/step - loss: 0.0502 - val_loss: 0.0437\n",
      "Epoch 9/10\n",
      "39528/39528 [==============================] - 123s 3ms/step - loss: 0.0501 - val_loss: 0.0435\n",
      "Epoch 10/10\n",
      "39528/39528 [==============================] - 120s 3ms/step - loss: 0.0499 - val_loss: 0.0445\n"
     ]
    }
   ],
   "source": [
    "from components.HinSAGE import HinSAGE_Representation_Learner\n",
    "\n",
    "#GraphSAGE parameters\n",
    "num_samples = [2,32]\n",
    "embedding_node_type = \"action\"\n",
    "\n",
    "hinsage = HinSAGE_Representation_Learner(embedding_size, num_samples, embedding_node_type)\n",
    "trained_hinsage_model, train_emb = hinsage.train_hinsage(S, list(train_data.index), train_data['LABEL'], batch_size=5, epochs=10)"
   ]
  },
  {
   "cell_type": "markdown",
   "metadata": {},
   "source": [
    "## 4. Inductive Step HinSAGE"
   ]
  },
  {
   "cell_type": "markdown",
   "metadata": {},
   "source": [
    "We want to keep the original indices after concatenating the train and inductive data, because they represent the transaction node ids. We need to concatenate these dataframes in order to easily construct the new graph."
   ]
  },
  {
   "cell_type": "code",
   "execution_count": 12,
   "metadata": {},
   "outputs": [],
   "source": [
    "pd.options.mode.chained_assignment = None\n",
    "\n",
    "train_data['index'] = train_data.index\n",
    "inductive_data['index'] = inductive_data.index\n",
    "inductive_graph_data = pd.concat((train_data,inductive_data))\n",
    "inductive_graph_data = inductive_graph_data.set_index(inductive_graph_data['index']).drop(\"index\",axis = 1)"
   ]
  },
  {
   "cell_type": "markdown",
   "metadata": {},
   "source": [
    "For the inductive step, we need to add the new, unseen transactions to the graph. Because the current StellarGraph implementation does not support adding nodes and edges to an existing stellargraph object, we create a new graph that contains all the nodes from the train graph in addition to the new nodes."
   ]
  },
  {
   "cell_type": "code",
   "execution_count": 13,
   "metadata": {},
   "outputs": [
    {
     "name": "stdout",
     "output_type": "stream",
     "text": [
      "StellarGraph: Undirected multigraph\n",
      " Nodes: 418893, Edges: 823498\n",
      "\n",
      " Node types:\n",
      "  action: [411749]\n",
      "    Features: float32 vector, length 4\n",
      "    Edge types: action-default->TARGETID, action-default->USERID\n",
      "  USERID: [7047]\n",
      "    Features: float32 vector, length 1\n",
      "    Edge types: USERID-default->action\n",
      "  TARGETID: [97]\n",
      "    Features: float32 vector, length 1\n",
      "    Edge types: TARGETID-default->action\n",
      "\n",
      " Edge types:\n",
      "    USERID-default->action: [411749]\n",
      "        Weights: all 1 (default)\n",
      "        Features: none\n",
      "    TARGETID-default->action: [411749]\n",
      "        Weights: all 1 (default)\n",
      "        Features: none\n"
     ]
    }
   ],
   "source": [
    "action_data = inductive_graph_data.drop(\"USERID\", axis=1).drop(\"TARGETID\", axis=1).drop(\"LABEL\", axis=1).drop(\"TIMESTAMP\", axis=1)\n",
    "USERID_data = pd.DataFrame([1]*len(inductive_graph_data.USERID.unique())).set_index(inductive_graph_data.USERID.unique())\n",
    "TARGETID_data = pd.DataFrame([1]*len(inductive_graph_data.TARGETID.unique())).set_index(inductive_graph_data.TARGETID.unique())\n",
    "\n",
    "nodes = {\"USERID\":inductive_graph_data.USERID, \"TARGETID\":inductive_graph_data.TARGETID, \"action\":inductive_graph_data.index}\n",
    "edges = [zip(inductive_graph_data.USERID, inductive_graph_data.index),zip(inductive_graph_data.TARGETID, inductive_graph_data.index)]\n",
    "features = {\"action\": action_data, 'USERID': USERID_data, 'TARGETID': TARGETID_data}\n",
    "\n",
    "graph = GraphConstruction(nodes, edges, features)\n",
    "S = graph.get_stellargraph()\n",
    "print(S.info())"
   ]
  },
  {
   "cell_type": "code",
   "execution_count": 14,
   "metadata": {
    "scrolled": false
   },
   "outputs": [
    {
     "name": "stdout",
     "output_type": "stream",
     "text": [
      "32940/32940 [==============================] - 96s 3ms/step\n"
     ]
    }
   ],
   "source": [
    "inductive_emb = hinsage.inductive_step_hinsage(S, trained_hinsage_model, inductive_data.index, batch_size=5)"
   ]
  },
  {
   "cell_type": "markdown",
   "metadata": {},
   "source": [
    "## 5. Classification"
   ]
  },
  {
   "cell_type": "code",
   "execution_count": 15,
   "metadata": {},
   "outputs": [],
   "source": [
    "from xgboost import XGBClassifier\n",
    "classifier = XGBClassifier(n_estimators=100)"
   ]
  },
  {
   "cell_type": "code",
   "execution_count": 16,
   "metadata": {},
   "outputs": [],
   "source": [
    "train_labels = train_data['LABEL']\n",
    "\n",
    "if add_additional_data is True:\n",
    "    train_emb = pd.merge(train_emb, train_data.loc[train_emb.index].drop('LABEL', axis=1), left_index=True, right_index=True)\n",
    "    inductive_emb = pd.merge(inductive_emb, inductive_data.loc[inductive_emb.index].drop('LABEL', axis=1), left_index=True, right_index=True)\n",
    "baseline_train = train_data.drop('LABEL', axis=1)\n",
    "baseline_inductive = inductive_data.drop('LABEL', axis=1)\n",
    "\n",
    "classifier.fit(baseline_train, train_labels)\n",
    "baseline_predictions = classifier.predict_proba(baseline_inductive)\n",
    "    \n",
    "classifier.fit(train_emb, train_labels)\n",
    "predictions = classifier.predict_proba(inductive_emb)\n"
   ]
  },
  {
   "cell_type": "markdown",
   "metadata": {},
   "source": [
    "## 6. Evaluation"
   ]
  },
  {
   "cell_type": "code",
   "execution_count": 17,
   "metadata": {},
   "outputs": [
    {
     "name": "stdout",
     "output_type": "stream",
     "text": [
      "Average precision-recall score for  GraphSAGE+features  configuration XGBoost: 0.0519896388\n",
      "Average precision-recall score for  Baseline  configuration XGBoost: 0.0284690267\n"
     ]
    },
    {
     "data": {
      "image/png": "[encoded data removed]",
      "text/plain": [
       "<Figure size 432x288 with 1 Axes>"
      ]
     },
     "metadata": {
      "needs_background": "light"
     },
     "output_type": "display_data"
    }
   ],
   "source": [
    "from components.Evaluation import Evaluation\n",
    "inductive_labels = df.loc[inductive_emb.index]['LABEL']\n",
    "\n",
    "graphsage_evaluation = Evaluation(predictions, inductive_labels, \"GraphSAGE+features\") \n",
    "graphsage_evaluation.pr_curve()\n",
    "\n",
    "if add_additional_data is True:\n",
    "    baseline_evaluation = Evaluation(baseline_predictions, inductive_labels, \"Baseline\")\n",
    "    baseline_evaluation.pr_curve()"
   ]
  }
 ],
 "metadata": {
  "kernelspec": {
   "display_name": "test_hinsage_aggregators",
   "language": "python",
   "name": "test_hinsage_aggregators"
  },
  "language_info": {
   "codemirror_mode": {
    "name": "ipython",
    "version": 3
   },
   "file_extension": ".py",
   "mimetype": "text/x-python",
   "name": "python",
   "nbconvert_exporter": "python",
   "pygments_lexer": "ipython3",
   "version": "3.8.5"
  }
 },
 "nbformat": 4,
 "nbformat_minor": 2
}
